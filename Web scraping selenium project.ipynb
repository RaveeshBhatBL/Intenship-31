{
 "cells": [
  {
   "cell_type": "code",
   "execution_count": 1,
   "id": "97228327",
   "metadata": {},
   "outputs": [
    {
     "name": "stdout",
     "output_type": "stream",
     "text": [
      "Requirement already satisfied: selenium in c:\\users\\91897\\anaconda3\\lib\\site-packages (4.1.0)\n",
      "Requirement already satisfied: urllib3[secure]~=1.26 in c:\\users\\91897\\anaconda3\\lib\\site-packages (from selenium) (1.26.4)\n",
      "Requirement already satisfied: trio-websocket~=0.9 in c:\\users\\91897\\anaconda3\\lib\\site-packages (from selenium) (0.9.2)\n",
      "Requirement already satisfied: trio~=0.17 in c:\\users\\91897\\anaconda3\\lib\\site-packages (from selenium) (0.19.0)\n",
      "Requirement already satisfied: cffi>=1.14 in c:\\users\\91897\\anaconda3\\lib\\site-packages (from trio~=0.17->selenium) (1.14.5)\n",
      "Requirement already satisfied: sniffio in c:\\users\\91897\\anaconda3\\lib\\site-packages (from trio~=0.17->selenium) (1.2.0)\n",
      "Requirement already satisfied: outcome in c:\\users\\91897\\anaconda3\\lib\\site-packages (from trio~=0.17->selenium) (1.1.0)\n",
      "Requirement already satisfied: async-generator>=1.9 in c:\\users\\91897\\anaconda3\\lib\\site-packages (from trio~=0.17->selenium) (1.10)\n",
      "Requirement already satisfied: idna in c:\\users\\91897\\anaconda3\\lib\\site-packages (from trio~=0.17->selenium) (2.10)\n",
      "Requirement already satisfied: attrs>=19.2.0 in c:\\users\\91897\\anaconda3\\lib\\site-packages (from trio~=0.17->selenium) (20.3.0)\n",
      "Requirement already satisfied: sortedcontainers in c:\\users\\91897\\anaconda3\\lib\\site-packages (from trio~=0.17->selenium) (2.3.0)\n",
      "Requirement already satisfied: pycparser in c:\\users\\91897\\anaconda3\\lib\\site-packages (from cffi>=1.14->trio~=0.17->selenium) (2.20)\n",
      "Requirement already satisfied: wsproto>=0.14 in c:\\users\\91897\\anaconda3\\lib\\site-packages (from trio-websocket~=0.9->selenium) (1.0.0)\n",
      "Requirement already satisfied: certifi in c:\\users\\91897\\anaconda3\\lib\\site-packages (from urllib3[secure]~=1.26->selenium) (2020.12.5)\n",
      "Requirement already satisfied: pyOpenSSL>=0.14 in c:\\users\\91897\\anaconda3\\lib\\site-packages (from urllib3[secure]~=1.26->selenium) (20.0.1)\n",
      "Requirement already satisfied: cryptography>=1.3.4 in c:\\users\\91897\\anaconda3\\lib\\site-packages (from urllib3[secure]~=1.26->selenium) (3.4.7)\n",
      "Requirement already satisfied: six>=1.5.2 in c:\\users\\91897\\anaconda3\\lib\\site-packages (from pyOpenSSL>=0.14->urllib3[secure]~=1.26->selenium) (1.15.0)\n",
      "Requirement already satisfied: h11<1,>=0.9.0 in c:\\users\\91897\\anaconda3\\lib\\site-packages (from wsproto>=0.14->trio-websocket~=0.9->selenium) (0.12.0)\n"
     ]
    }
   ],
   "source": [
    "! pip install selenium"
   ]
  },
  {
   "cell_type": "code",
   "execution_count": 2,
   "id": "2a8b68d7",
   "metadata": {},
   "outputs": [],
   "source": [
    "import selenium\n",
    "import pandas as pd\n",
    "from selenium import webdriver\n",
    "import warnings\n",
    "warnings.filterwarnings('ignore')"
   ]
  },
  {
   "cell_type": "markdown",
   "id": "3c9664b8",
   "metadata": {},
   "source": [
    "# Question 1"
   ]
  },
  {
   "cell_type": "markdown",
   "id": "0b6913fc",
   "metadata": {},
   "source": [
    "Write a python program to scrape data for “Data Analyst” Job position in “Bangalore” location. You have to scrape the job-title, job-location, company_name, experience_required. You have to scrape first 10 jobs data. This task will be done in following steps:\n",
    "\n",
    "1.First get the webpage https://www.naukri.com/ \n",
    "2. Enter “Data Analyst” in “Skill, Designations, Companies” field and enter “Bangalore” in “enter the location” field.\n",
    "3.Then click the search button.\n",
    "4.Then scrape the data for the first 10 jobs results you get.\n",
    "5.Finally create a dataframe of the scraped data."
   ]
  },
  {
   "cell_type": "code",
   "execution_count": 18,
   "id": "b24dc93d",
   "metadata": {},
   "outputs": [],
   "source": [
    "driver=webdriver.Chrome(r\"C:/Users/91897/Downloads/chromedriver_win32/chromedriver.exe\")"
   ]
  },
  {
   "cell_type": "code",
   "execution_count": null,
   "id": "ebdce8b5",
   "metadata": {},
   "outputs": [],
   "source": [
    "driver.get('https://www.naukri.com/') #opening the url using the webdriver"
   ]
  },
  {
   "cell_type": "code",
   "execution_count": null,
   "id": "9c3b1d16",
   "metadata": {},
   "outputs": [],
   "source": [
    "search_job=driver.find_element_by_id('qsb-keyword-sugg') #Coding instructions to search for DataAnalyst jobs\n",
    "search_job.send_keys(\"Data Analyst\")\n",
    "search_loc=driver.find_element_by_xpath(\"//input[@id='qsb-location-sugg']\") #Coding instructions to search the job in banglore city\n",
    "search_loc.send_keys('Bangalore')"
   ]
  },
  {
   "cell_type": "code",
   "execution_count": 21,
   "id": "994f2f40",
   "metadata": {},
   "outputs": [],
   "source": [
    "search_btn=driver.find_element_by_xpath(\"//div[@class='search-btn']/button\") #coding instructions to click on the searc button\n",
    "search_btn.click()"
   ]
  },
  {
   "cell_type": "code",
   "execution_count": 22,
   "id": "4c779f47",
   "metadata": {},
   "outputs": [],
   "source": [
    "#Creating empty list\n",
    "job_title =[] \n",
    "job_loc =[]\n",
    "company_name=[]\n",
    "experience_required=[]"
   ]
  },
  {
   "cell_type": "code",
   "execution_count": 24,
   "id": "9a28d757",
   "metadata": {},
   "outputs": [],
   "source": [
    "title_tags=driver.find_elements_by_xpath(\"//a[@class='title fw500 ellipsis']\") #extracting job titles\n",
    "#title_tags[0:10]"
   ]
  },
  {
   "cell_type": "code",
   "execution_count": 26,
   "id": "bad78c5b",
   "metadata": {},
   "outputs": [
    {
     "data": {
      "text/plain": [
       "['Hiring -Data Analyst, Business Analyst, MIS Analyst -3rd Party Payroll',\n",
       " 'Senior Data Analyst III',\n",
       " 'Data Analyst',\n",
       " 'Business Analyst/ Data Analyst- Capital Market & SQL (Mandatory)',\n",
       " 'Customer Data Management Analyst',\n",
       " 'Assistant/deputy Manager - Geo-spatial Data Analyst',\n",
       " 'Senior Data Analyst',\n",
       " 'Senior Data Analyst',\n",
       " 'Senior Data Analyst',\n",
       " 'Openings For SQL Data Analyst']"
      ]
     },
     "execution_count": 26,
     "metadata": {},
     "output_type": "execute_result"
    }
   ],
   "source": [
    "for i in title_tags:  #Getting only the rquired text in a list using for loop\n",
    "    title=i.text\n",
    "    job_title.append(title)\n",
    "job_title[0:10]"
   ]
  },
  {
   "cell_type": "code",
   "execution_count": 27,
   "id": "cba0c0f9",
   "metadata": {},
   "outputs": [],
   "source": [
    "company_tags=driver.find_elements_by_xpath(\"//a[@class='subTitle ellipsis fleft']\") #extracting company names\n",
    "#company_tags[0:10]"
   ]
  },
  {
   "cell_type": "code",
   "execution_count": 28,
   "id": "b05e05df",
   "metadata": {},
   "outputs": [
    {
     "data": {
      "text/plain": [
       "['Flipkart',\n",
       " 'Flipkart',\n",
       " 'GlaxoSmithKline Pharmaceuticals Limited',\n",
       " 'Genpact',\n",
       " 'Aspect',\n",
       " 'Maruti Suzuki India',\n",
       " 'Rapido',\n",
       " 'SYREN TECHNOLOGIES PRIVATE LIMITED',\n",
       " 'Flipkart',\n",
       " 'StackNexus Technologies India Pvt. Ltd']"
      ]
     },
     "execution_count": 28,
     "metadata": {},
     "output_type": "execute_result"
    }
   ],
   "source": [
    "for i in company_tags:\n",
    "    company=i.text\n",
    "    company_name.append(company)\n",
    "company_name[0:10]"
   ]
  },
  {
   "cell_type": "code",
   "execution_count": 29,
   "id": "149b08eb",
   "metadata": {},
   "outputs": [],
   "source": [
    "experience_tags=driver.find_elements_by_xpath(\"//li[@class='fleft grey-text br2 placeHolderLi experience']/span[1]\")\n",
    "#experience_tags[0:10]  #extracting experience"
   ]
  },
  {
   "cell_type": "code",
   "execution_count": 30,
   "id": "64beaac6",
   "metadata": {},
   "outputs": [
    {
     "data": {
      "text/plain": [
       "['1-6 Yrs',\n",
       " '2-4 Yrs',\n",
       " '3-8 Yrs',\n",
       " '7-12 Yrs',\n",
       " '0-2 Yrs',\n",
       " '3-5 Yrs',\n",
       " '1-6 Yrs',\n",
       " '5-10 Yrs',\n",
       " '4-5 Yrs',\n",
       " '3-6 Yrs']"
      ]
     },
     "execution_count": 30,
     "metadata": {},
     "output_type": "execute_result"
    }
   ],
   "source": [
    "for i in experience_tags:\n",
    "    experience=i.text\n",
    "    experience_required.append(experience)\n",
    "experience_required[0:10]    "
   ]
  },
  {
   "cell_type": "code",
   "execution_count": 31,
   "id": "96b01b4e",
   "metadata": {},
   "outputs": [],
   "source": [
    "location_tags=driver.find_elements_by_xpath(\"//li[@class='fleft grey-text br2 placeHolderLi location']/span[1]\")\n",
    "#location_tags[0:10] #extracting locations"
   ]
  },
  {
   "cell_type": "code",
   "execution_count": 32,
   "id": "002403f4",
   "metadata": {},
   "outputs": [
    {
     "data": {
      "text/plain": [
       "['Bangalore/Bengaluru',\n",
       " 'Bengaluru/Bangalore',\n",
       " 'Bangalore/Bengaluru',\n",
       " 'Pune, Bangalore/Bengaluru',\n",
       " 'Bangalore/Bengaluru',\n",
       " 'Gurgaon/Gurugram, bangalore',\n",
       " 'Bangalore/Bengaluru',\n",
       " 'Kolkata, Hyderabad/Secunderabad, Pune, Ahmedabad, Chennai, Bangalore/Bengaluru, Delhi / NCR, Mumbai (All Areas)',\n",
       " 'Bengaluru/Bangalore',\n",
       " 'Hyderabad/Secunderabad, Bangalore/Bengaluru']"
      ]
     },
     "execution_count": 32,
     "metadata": {},
     "output_type": "execute_result"
    }
   ],
   "source": [
    "for i in location_tags:\n",
    "    location=i.text\n",
    "    job_loc.append(location)\n",
    "job_loc[0:10]"
   ]
  },
  {
   "cell_type": "code",
   "execution_count": 33,
   "id": "9251a791",
   "metadata": {},
   "outputs": [],
   "source": [
    "data=list(zip(job_title,company_name,experience_required,job_loc)) #zipping all the list into a single variable"
   ]
  },
  {
   "cell_type": "code",
   "execution_count": 34,
   "id": "23a5683d",
   "metadata": {},
   "outputs": [],
   "source": [
    "driver.close() #closing the website"
   ]
  },
  {
   "cell_type": "code",
   "execution_count": 35,
   "id": "9afab076",
   "metadata": {},
   "outputs": [],
   "source": [
    "df=pd.DataFrame(data, columns=['Title','Company','Experience','Location']) #Creating dataframe"
   ]
  },
  {
   "cell_type": "code",
   "execution_count": 36,
   "id": "6e1ef6bc",
   "metadata": {},
   "outputs": [],
   "source": [
    "df.set_index('Title', inplace =True) #setting the title as index and saving"
   ]
  },
  {
   "cell_type": "code",
   "execution_count": 37,
   "id": "e3d68c1c",
   "metadata": {},
   "outputs": [
    {
     "data": {
      "text/html": [
       "<div>\n",
       "<style scoped>\n",
       "    .dataframe tbody tr th:only-of-type {\n",
       "        vertical-align: middle;\n",
       "    }\n",
       "\n",
       "    .dataframe tbody tr th {\n",
       "        vertical-align: top;\n",
       "    }\n",
       "\n",
       "    .dataframe thead th {\n",
       "        text-align: right;\n",
       "    }\n",
       "</style>\n",
       "<table border=\"1\" class=\"dataframe\">\n",
       "  <thead>\n",
       "    <tr style=\"text-align: right;\">\n",
       "      <th></th>\n",
       "      <th>Company</th>\n",
       "      <th>Experience</th>\n",
       "      <th>Location</th>\n",
       "    </tr>\n",
       "    <tr>\n",
       "      <th>Title</th>\n",
       "      <th></th>\n",
       "      <th></th>\n",
       "      <th></th>\n",
       "    </tr>\n",
       "  </thead>\n",
       "  <tbody>\n",
       "    <tr>\n",
       "      <th>Hiring -Data Analyst, Business Analyst, MIS Analyst -3rd Party Payroll</th>\n",
       "      <td>Flipkart</td>\n",
       "      <td>1-6 Yrs</td>\n",
       "      <td>Bangalore/Bengaluru</td>\n",
       "    </tr>\n",
       "    <tr>\n",
       "      <th>Senior Data Analyst III</th>\n",
       "      <td>Flipkart</td>\n",
       "      <td>2-4 Yrs</td>\n",
       "      <td>Bengaluru/Bangalore</td>\n",
       "    </tr>\n",
       "    <tr>\n",
       "      <th>Data Analyst</th>\n",
       "      <td>GlaxoSmithKline Pharmaceuticals Limited</td>\n",
       "      <td>3-8 Yrs</td>\n",
       "      <td>Bangalore/Bengaluru</td>\n",
       "    </tr>\n",
       "    <tr>\n",
       "      <th>Business Analyst/ Data Analyst- Capital Market &amp; SQL (Mandatory)</th>\n",
       "      <td>Genpact</td>\n",
       "      <td>7-12 Yrs</td>\n",
       "      <td>Pune, Bangalore/Bengaluru</td>\n",
       "    </tr>\n",
       "    <tr>\n",
       "      <th>Customer Data Management Analyst</th>\n",
       "      <td>Aspect</td>\n",
       "      <td>0-2 Yrs</td>\n",
       "      <td>Bangalore/Bengaluru</td>\n",
       "    </tr>\n",
       "    <tr>\n",
       "      <th>Assistant/deputy Manager - Geo-spatial Data Analyst</th>\n",
       "      <td>Maruti Suzuki India</td>\n",
       "      <td>3-5 Yrs</td>\n",
       "      <td>Gurgaon/Gurugram, bangalore</td>\n",
       "    </tr>\n",
       "    <tr>\n",
       "      <th>Senior Data Analyst</th>\n",
       "      <td>Rapido</td>\n",
       "      <td>1-6 Yrs</td>\n",
       "      <td>Bangalore/Bengaluru</td>\n",
       "    </tr>\n",
       "    <tr>\n",
       "      <th>Senior Data Analyst</th>\n",
       "      <td>SYREN TECHNOLOGIES PRIVATE LIMITED</td>\n",
       "      <td>5-10 Yrs</td>\n",
       "      <td>Kolkata, Hyderabad/Secunderabad, Pune, Ahmedab...</td>\n",
       "    </tr>\n",
       "    <tr>\n",
       "      <th>Senior Data Analyst</th>\n",
       "      <td>Flipkart</td>\n",
       "      <td>4-5 Yrs</td>\n",
       "      <td>Bengaluru/Bangalore</td>\n",
       "    </tr>\n",
       "    <tr>\n",
       "      <th>Openings For SQL Data Analyst</th>\n",
       "      <td>StackNexus Technologies India Pvt. Ltd</td>\n",
       "      <td>3-6 Yrs</td>\n",
       "      <td>Hyderabad/Secunderabad, Bangalore/Bengaluru</td>\n",
       "    </tr>\n",
       "  </tbody>\n",
       "</table>\n",
       "</div>"
      ],
      "text/plain": [
       "                                                                                    Company  \\\n",
       "Title                                                                                         \n",
       "Hiring -Data Analyst, Business Analyst, MIS Ana...                                 Flipkart   \n",
       "Senior Data Analyst III                                                            Flipkart   \n",
       "Data Analyst                                        GlaxoSmithKline Pharmaceuticals Limited   \n",
       "Business Analyst/ Data Analyst- Capital Market ...                                  Genpact   \n",
       "Customer Data Management Analyst                                                     Aspect   \n",
       "Assistant/deputy Manager - Geo-spatial Data Ana...                      Maruti Suzuki India   \n",
       "Senior Data Analyst                                                                  Rapido   \n",
       "Senior Data Analyst                                      SYREN TECHNOLOGIES PRIVATE LIMITED   \n",
       "Senior Data Analyst                                                                Flipkart   \n",
       "Openings For SQL Data Analyst                        StackNexus Technologies India Pvt. Ltd   \n",
       "\n",
       "                                                   Experience  \\\n",
       "Title                                                           \n",
       "Hiring -Data Analyst, Business Analyst, MIS Ana...    1-6 Yrs   \n",
       "Senior Data Analyst III                               2-4 Yrs   \n",
       "Data Analyst                                          3-8 Yrs   \n",
       "Business Analyst/ Data Analyst- Capital Market ...   7-12 Yrs   \n",
       "Customer Data Management Analyst                      0-2 Yrs   \n",
       "Assistant/deputy Manager - Geo-spatial Data Ana...    3-5 Yrs   \n",
       "Senior Data Analyst                                   1-6 Yrs   \n",
       "Senior Data Analyst                                  5-10 Yrs   \n",
       "Senior Data Analyst                                   4-5 Yrs   \n",
       "Openings For SQL Data Analyst                         3-6 Yrs   \n",
       "\n",
       "                                                                                             Location  \n",
       "Title                                                                                                  \n",
       "Hiring -Data Analyst, Business Analyst, MIS Ana...                                Bangalore/Bengaluru  \n",
       "Senior Data Analyst III                                                           Bengaluru/Bangalore  \n",
       "Data Analyst                                                                      Bangalore/Bengaluru  \n",
       "Business Analyst/ Data Analyst- Capital Market ...                          Pune, Bangalore/Bengaluru  \n",
       "Customer Data Management Analyst                                                  Bangalore/Bengaluru  \n",
       "Assistant/deputy Manager - Geo-spatial Data Ana...                        Gurgaon/Gurugram, bangalore  \n",
       "Senior Data Analyst                                                               Bangalore/Bengaluru  \n",
       "Senior Data Analyst                                 Kolkata, Hyderabad/Secunderabad, Pune, Ahmedab...  \n",
       "Senior Data Analyst                                                               Bengaluru/Bangalore  \n",
       "Openings For SQL Data Analyst                             Hyderabad/Secunderabad, Bangalore/Bengaluru  "
      ]
     },
     "execution_count": 37,
     "metadata": {},
     "output_type": "execute_result"
    }
   ],
   "source": [
    "df[0:10]"
   ]
  },
  {
   "cell_type": "markdown",
   "id": "1c4cbd8d",
   "metadata": {},
   "source": [
    "# Question 2"
   ]
  },
  {
   "cell_type": "markdown",
   "id": "b4119784",
   "metadata": {},
   "source": [
    "Write a python program to scrape data for “Data Scientist” Job position in “Bangalore” location. You have to scrape the job-title, job-location, company_name. You have to scrape first 10 jobs data. This task will be done in following steps:\n",
    "\n",
    "1.First get the webpage https://www.naukri.com/ \n",
    "2.Enter “Data Scientist” in “Skill, Designations, Companies” field and enter “Bangalore” in “enter the location” field.\n",
    "3.Then click the search button.\n",
    "4.Then scrape the data for the first 10 jobs results you get.\n",
    "5.Finally create a dataframe of the scraped data."
   ]
  },
  {
   "cell_type": "code",
   "execution_count": 38,
   "id": "b8d7f2ba",
   "metadata": {},
   "outputs": [],
   "source": [
    "driver=webdriver.Chrome(r\"C:/Users/91897/Downloads/chromedriver_win32/chromedriver.exe\")"
   ]
  },
  {
   "cell_type": "code",
   "execution_count": 39,
   "id": "e6821a1e",
   "metadata": {},
   "outputs": [],
   "source": [
    "driver.get('https://www.naukri.com/') # opening the website"
   ]
  },
  {
   "cell_type": "code",
   "execution_count": 40,
   "id": "6e67212e",
   "metadata": {},
   "outputs": [],
   "source": [
    "ds = driver.find_element_by_id(\"qsb-keyword-sugg\")\n",
    "ds.send_keys(\"Data Scientist\") #searching for datascientist"
   ]
  },
  {
   "cell_type": "code",
   "execution_count": 41,
   "id": "229e6713",
   "metadata": {},
   "outputs": [],
   "source": [
    "loc=driver.find_element_by_xpath(\"//input[@id='qsb-location-sugg']\")\n",
    "loc.send_keys(\"Banglore\") # searching for loaction"
   ]
  },
  {
   "cell_type": "code",
   "execution_count": 42,
   "id": "2277f9da",
   "metadata": {},
   "outputs": [],
   "source": [
    "btn=driver.find_element_by_xpath(\"//div[@class='search-btn']/button\")\n",
    "btn.click()"
   ]
  },
  {
   "cell_type": "code",
   "execution_count": 43,
   "id": "bfab7e12",
   "metadata": {},
   "outputs": [],
   "source": [
    "job_title=[]\n",
    "job_location=[]\n",
    "company_name=[]"
   ]
  },
  {
   "cell_type": "code",
   "execution_count": 44,
   "id": "e3081057",
   "metadata": {},
   "outputs": [],
   "source": [
    "titles = driver.find_elements_by_xpath(\"//a[@class='title fw500 ellipsis']\")\n",
    "#titles[0:10]"
   ]
  },
  {
   "cell_type": "code",
   "execution_count": 45,
   "id": "9e7e5d6f",
   "metadata": {},
   "outputs": [
    {
     "data": {
      "text/plain": [
       "['Data Scientist',\n",
       " 'Data Science - Senior Data Scientist',\n",
       " 'Lead / Principal Data Scientist',\n",
       " 'Senior Data Scientist',\n",
       " 'Senior Data Scientist',\n",
       " 'Data Scientist - Credit Risk',\n",
       " 'Lead/Senior Data Scientist (NLP)',\n",
       " 'Data Scientist',\n",
       " 'Data Scientist',\n",
       " 'Advanced Analytics Expert - Data Scientist']"
      ]
     },
     "execution_count": 45,
     "metadata": {},
     "output_type": "execute_result"
    }
   ],
   "source": [
    "for i in titles:\n",
    "    job=i.text\n",
    "    job_title.append(job)\n",
    "job_title[0:10]"
   ]
  },
  {
   "cell_type": "code",
   "execution_count": 46,
   "id": "bd56203b",
   "metadata": {},
   "outputs": [],
   "source": [
    "names= driver.find_elements_by_xpath(\"//a[@class='subTitle ellipsis fleft']\")\n",
    "#names[0:10]"
   ]
  },
  {
   "cell_type": "code",
   "execution_count": 47,
   "id": "9d6e18d7",
   "metadata": {},
   "outputs": [
    {
     "data": {
      "text/plain": [
       "['Snaphunt',\n",
       " 'Paytm',\n",
       " 'Aviso Inc',\n",
       " 'Ally-Executive',\n",
       " 'Visa',\n",
       " 'Scienaptic Systems',\n",
       " 'Samya.AI A FRACTAL Entity',\n",
       " 'Truecaller',\n",
       " 'Slice',\n",
       " 'Hewlett-Packard']"
      ]
     },
     "execution_count": 47,
     "metadata": {},
     "output_type": "execute_result"
    }
   ],
   "source": [
    "for i in names:\n",
    "    company=i.text\n",
    "    company_name.append(company)\n",
    "company_name[0:10]"
   ]
  },
  {
   "cell_type": "code",
   "execution_count": 48,
   "id": "f45e83b8",
   "metadata": {},
   "outputs": [],
   "source": [
    "locations = driver.find_elements_by_xpath(\"//li[@class='fleft grey-text br2 placeHolderLi location']/span[1]\")\n",
    "#locations[0:10]"
   ]
  },
  {
   "cell_type": "code",
   "execution_count": 49,
   "id": "d567b265",
   "metadata": {},
   "outputs": [
    {
     "data": {
      "text/plain": [
       "['Bangalore/Bengaluru',\n",
       " 'Noida, Bangalore/Bengaluru',\n",
       " 'Mumbai, Hyderabad/Secunderabad, Pune, Delhi / NCR, Bangalore/Bengaluru',\n",
       " 'Bangalore/Bengaluru',\n",
       " 'Bangalore/Bengaluru',\n",
       " 'Bangalore/Bengaluru',\n",
       " 'Bangalore/Bengaluru',\n",
       " 'Bangalore/Bengaluru',\n",
       " 'Bangalore/Bengaluru',\n",
       " 'Bangalore/Bengaluru, Bangalore']"
      ]
     },
     "execution_count": 49,
     "metadata": {},
     "output_type": "execute_result"
    }
   ],
   "source": [
    "for i in locations:\n",
    "    location=i.text\n",
    "    job_location.append(location)\n",
    "job_location[0:10]"
   ]
  },
  {
   "cell_type": "code",
   "execution_count": 50,
   "id": "05a3e713",
   "metadata": {},
   "outputs": [],
   "source": [
    "data = list(zip(job_title, company_name, job_location))"
   ]
  },
  {
   "cell_type": "code",
   "execution_count": 51,
   "id": "c44ca168",
   "metadata": {},
   "outputs": [],
   "source": [
    "df=pd.DataFrame(data, columns=['Job_Tile','Company_Name','Job_Locations'])"
   ]
  },
  {
   "cell_type": "code",
   "execution_count": 52,
   "id": "27b5d99d",
   "metadata": {},
   "outputs": [],
   "source": [
    "df.set_index('Company_Name', inplace=True)"
   ]
  },
  {
   "cell_type": "code",
   "execution_count": 53,
   "id": "ca6450e5",
   "metadata": {},
   "outputs": [
    {
     "data": {
      "text/html": [
       "<div>\n",
       "<style scoped>\n",
       "    .dataframe tbody tr th:only-of-type {\n",
       "        vertical-align: middle;\n",
       "    }\n",
       "\n",
       "    .dataframe tbody tr th {\n",
       "        vertical-align: top;\n",
       "    }\n",
       "\n",
       "    .dataframe thead th {\n",
       "        text-align: right;\n",
       "    }\n",
       "</style>\n",
       "<table border=\"1\" class=\"dataframe\">\n",
       "  <thead>\n",
       "    <tr style=\"text-align: right;\">\n",
       "      <th></th>\n",
       "      <th>Job_Tile</th>\n",
       "      <th>Job_Locations</th>\n",
       "    </tr>\n",
       "    <tr>\n",
       "      <th>Company_Name</th>\n",
       "      <th></th>\n",
       "      <th></th>\n",
       "    </tr>\n",
       "  </thead>\n",
       "  <tbody>\n",
       "    <tr>\n",
       "      <th>Snaphunt</th>\n",
       "      <td>Data Scientist</td>\n",
       "      <td>Bangalore/Bengaluru</td>\n",
       "    </tr>\n",
       "    <tr>\n",
       "      <th>Paytm</th>\n",
       "      <td>Data Science - Senior Data Scientist</td>\n",
       "      <td>Noida, Bangalore/Bengaluru</td>\n",
       "    </tr>\n",
       "    <tr>\n",
       "      <th>Aviso Inc</th>\n",
       "      <td>Lead / Principal Data Scientist</td>\n",
       "      <td>Mumbai, Hyderabad/Secunderabad, Pune, Delhi / ...</td>\n",
       "    </tr>\n",
       "    <tr>\n",
       "      <th>Ally-Executive</th>\n",
       "      <td>Senior Data Scientist</td>\n",
       "      <td>Bangalore/Bengaluru</td>\n",
       "    </tr>\n",
       "    <tr>\n",
       "      <th>Visa</th>\n",
       "      <td>Senior Data Scientist</td>\n",
       "      <td>Bangalore/Bengaluru</td>\n",
       "    </tr>\n",
       "    <tr>\n",
       "      <th>Scienaptic Systems</th>\n",
       "      <td>Data Scientist - Credit Risk</td>\n",
       "      <td>Bangalore/Bengaluru</td>\n",
       "    </tr>\n",
       "    <tr>\n",
       "      <th>Samya.AI A FRACTAL Entity</th>\n",
       "      <td>Lead/Senior Data Scientist (NLP)</td>\n",
       "      <td>Bangalore/Bengaluru</td>\n",
       "    </tr>\n",
       "    <tr>\n",
       "      <th>Truecaller</th>\n",
       "      <td>Data Scientist</td>\n",
       "      <td>Bangalore/Bengaluru</td>\n",
       "    </tr>\n",
       "    <tr>\n",
       "      <th>Slice</th>\n",
       "      <td>Data Scientist</td>\n",
       "      <td>Bangalore/Bengaluru</td>\n",
       "    </tr>\n",
       "    <tr>\n",
       "      <th>Hewlett-Packard</th>\n",
       "      <td>Advanced Analytics Expert - Data Scientist</td>\n",
       "      <td>Bangalore/Bengaluru, Bangalore</td>\n",
       "    </tr>\n",
       "  </tbody>\n",
       "</table>\n",
       "</div>"
      ],
      "text/plain": [
       "                                                             Job_Tile  \\\n",
       "Company_Name                                                            \n",
       "Snaphunt                                               Data Scientist   \n",
       "Paytm                            Data Science - Senior Data Scientist   \n",
       "Aviso Inc                             Lead / Principal Data Scientist   \n",
       "Ally-Executive                                  Senior Data Scientist   \n",
       "Visa                                            Senior Data Scientist   \n",
       "Scienaptic Systems                       Data Scientist - Credit Risk   \n",
       "Samya.AI A FRACTAL Entity            Lead/Senior Data Scientist (NLP)   \n",
       "Truecaller                                             Data Scientist   \n",
       "Slice                                                  Data Scientist   \n",
       "Hewlett-Packard            Advanced Analytics Expert - Data Scientist   \n",
       "\n",
       "                                                               Job_Locations  \n",
       "Company_Name                                                                  \n",
       "Snaphunt                                                 Bangalore/Bengaluru  \n",
       "Paytm                                             Noida, Bangalore/Bengaluru  \n",
       "Aviso Inc                  Mumbai, Hyderabad/Secunderabad, Pune, Delhi / ...  \n",
       "Ally-Executive                                           Bangalore/Bengaluru  \n",
       "Visa                                                     Bangalore/Bengaluru  \n",
       "Scienaptic Systems                                       Bangalore/Bengaluru  \n",
       "Samya.AI A FRACTAL Entity                                Bangalore/Bengaluru  \n",
       "Truecaller                                               Bangalore/Bengaluru  \n",
       "Slice                                                    Bangalore/Bengaluru  \n",
       "Hewlett-Packard                               Bangalore/Bengaluru, Bangalore  "
      ]
     },
     "execution_count": 53,
     "metadata": {},
     "output_type": "execute_result"
    }
   ],
   "source": [
    "df[0:10]"
   ]
  },
  {
   "cell_type": "markdown",
   "id": "6a18b06b",
   "metadata": {},
   "source": [
    "# Question 8"
   ]
  },
  {
   "cell_type": "markdown",
   "id": "cd93571d",
   "metadata": {},
   "source": [
    "Go to webpage https://www.amazon.in/\n",
    "Enter “Laptop” in the search field and then click the search icon.\n",
    "Then set CPU Type filter to “Intel Core i7” and “Intel Core i9” \n",
    "After setting the filters scrape first 10 laptops data. You have to scrape 3 attributesfor each laptop:\n",
    "1. Title\n",
    "2. Ratings\n",
    "3. Price"
   ]
  },
  {
   "cell_type": "code",
   "execution_count": 338,
   "id": "2de16847",
   "metadata": {},
   "outputs": [],
   "source": [
    "driver=webdriver.Chrome(r\"C:/Users/91897/Downloads/chromedriver_win32/chromedriver.exe\")"
   ]
  },
  {
   "cell_type": "code",
   "execution_count": 339,
   "id": "40cf264f",
   "metadata": {},
   "outputs": [],
   "source": [
    "url='https://www.amazon.in/'\n",
    "driver.get(url)"
   ]
  },
  {
   "cell_type": "code",
   "execution_count": 340,
   "id": "ee16e45a",
   "metadata": {},
   "outputs": [
    {
     "data": {
      "text/plain": [
       "<selenium.webdriver.remote.webelement.WebElement (session=\"6aec50b4446f45cbc8f8ba444cf3f44f\", element=\"97f5c7ef-e52b-43fe-ad08-bb00a5b2bd3b\")>"
      ]
     },
     "execution_count": 340,
     "metadata": {},
     "output_type": "execute_result"
    }
   ],
   "source": [
    "s1=driver.find_element_by_id(\"twotabsearchtextbox\")\n",
    "s1"
   ]
  },
  {
   "cell_type": "code",
   "execution_count": 341,
   "id": "3bfe197f",
   "metadata": {},
   "outputs": [],
   "source": [
    "s1.send_keys(\"Laptop\")"
   ]
  },
  {
   "cell_type": "code",
   "execution_count": 342,
   "id": "6b9ac091",
   "metadata": {},
   "outputs": [],
   "source": [
    "btn=driver.find_element_by_id(\"nav-search-submit-button\")\n",
    "btn.click()"
   ]
  },
  {
   "cell_type": "code",
   "execution_count": 343,
   "id": "5614933f",
   "metadata": {},
   "outputs": [],
   "source": [
    "filterb=driver.find_elements_by_xpath(\"//a[@class='a-link-normal s-navigation-item']/span\")\n",
    "for i in filterb:\n",
    "    if i.text=='Intel Core i7':\n",
    "        i.click()\n",
    "        break"
   ]
  },
  {
   "cell_type": "code",
   "execution_count": 344,
   "id": "9ce1abcc",
   "metadata": {},
   "outputs": [],
   "source": [
    "filterb1=driver.find_elements_by_xpath(\"//a[@class='a-link-normal s-navigation-item']/span\")\n",
    "for i in filterb1:\n",
    "    if i.text=='Intel Core i9':\n",
    "        i.click()\n",
    "        break"
   ]
  },
  {
   "cell_type": "code",
   "execution_count": 345,
   "id": "f78c180c",
   "metadata": {},
   "outputs": [
    {
     "data": {
      "text/plain": [
       "[<selenium.webdriver.remote.webelement.WebElement (session=\"6aec50b4446f45cbc8f8ba444cf3f44f\", element=\"22845256-7228-4574-aeb3-f4de5ba24d6f\")>,\n",
       " <selenium.webdriver.remote.webelement.WebElement (session=\"6aec50b4446f45cbc8f8ba444cf3f44f\", element=\"4e67afed-92c2-499d-b5f9-23fa87029328\")>,\n",
       " <selenium.webdriver.remote.webelement.WebElement (session=\"6aec50b4446f45cbc8f8ba444cf3f44f\", element=\"6d0b243d-5a5b-4ba9-926c-fccea2cd08ec\")>,\n",
       " <selenium.webdriver.remote.webelement.WebElement (session=\"6aec50b4446f45cbc8f8ba444cf3f44f\", element=\"a1fbd8e3-a520-4acc-9f6c-4aa8867133bb\")>,\n",
       " <selenium.webdriver.remote.webelement.WebElement (session=\"6aec50b4446f45cbc8f8ba444cf3f44f\", element=\"781ff59b-8a5b-410e-9dd7-596a7fea9446\")>,\n",
       " <selenium.webdriver.remote.webelement.WebElement (session=\"6aec50b4446f45cbc8f8ba444cf3f44f\", element=\"870b7bc8-a0b3-4cd4-a97e-fad103e01b13\")>,\n",
       " <selenium.webdriver.remote.webelement.WebElement (session=\"6aec50b4446f45cbc8f8ba444cf3f44f\", element=\"70716b9e-182f-47ed-a440-cf464e38a497\")>,\n",
       " <selenium.webdriver.remote.webelement.WebElement (session=\"6aec50b4446f45cbc8f8ba444cf3f44f\", element=\"04fc3a65-0c14-41d6-9a7f-0d6b4379c678\")>,\n",
       " <selenium.webdriver.remote.webelement.WebElement (session=\"6aec50b4446f45cbc8f8ba444cf3f44f\", element=\"8852b1d4-49de-4993-abeb-2c869e251e33\")>,\n",
       " <selenium.webdriver.remote.webelement.WebElement (session=\"6aec50b4446f45cbc8f8ba444cf3f44f\", element=\"47875127-07a9-4029-bc76-289522a367c3\")>,\n",
       " <selenium.webdriver.remote.webelement.WebElement (session=\"6aec50b4446f45cbc8f8ba444cf3f44f\", element=\"45e73636-3a95-4cd3-8cdb-6fc15cc94724\")>,\n",
       " <selenium.webdriver.remote.webelement.WebElement (session=\"6aec50b4446f45cbc8f8ba444cf3f44f\", element=\"e4ffab25-a67d-4662-9677-dc797ed5ba7d\")>,\n",
       " <selenium.webdriver.remote.webelement.WebElement (session=\"6aec50b4446f45cbc8f8ba444cf3f44f\", element=\"01cfac12-836c-44be-b352-8a4ce24057c3\")>,\n",
       " <selenium.webdriver.remote.webelement.WebElement (session=\"6aec50b4446f45cbc8f8ba444cf3f44f\", element=\"c32ec801-fa0a-4b2e-8d98-4463ab8595d6\")>,\n",
       " <selenium.webdriver.remote.webelement.WebElement (session=\"6aec50b4446f45cbc8f8ba444cf3f44f\", element=\"18656e69-a4a8-40ed-ba14-b6dfca059a56\")>,\n",
       " <selenium.webdriver.remote.webelement.WebElement (session=\"6aec50b4446f45cbc8f8ba444cf3f44f\", element=\"36eac757-401b-445a-8e89-6b109cd9f25f\")>,\n",
       " <selenium.webdriver.remote.webelement.WebElement (session=\"6aec50b4446f45cbc8f8ba444cf3f44f\", element=\"8aaf15a5-eaef-42da-b83f-944a1beb6ead\")>,\n",
       " <selenium.webdriver.remote.webelement.WebElement (session=\"6aec50b4446f45cbc8f8ba444cf3f44f\", element=\"175c09fc-7b52-4a77-a7d6-8fb844099c98\")>,\n",
       " <selenium.webdriver.remote.webelement.WebElement (session=\"6aec50b4446f45cbc8f8ba444cf3f44f\", element=\"4dce930d-0bb9-4aff-9b2c-4b926ff5061b\")>,\n",
       " <selenium.webdriver.remote.webelement.WebElement (session=\"6aec50b4446f45cbc8f8ba444cf3f44f\", element=\"1cdb4739-10c2-4ea9-92be-93553e4955eb\")>,\n",
       " <selenium.webdriver.remote.webelement.WebElement (session=\"6aec50b4446f45cbc8f8ba444cf3f44f\", element=\"a8d75904-ceef-47ee-9eae-65e5f718d5c3\")>,\n",
       " <selenium.webdriver.remote.webelement.WebElement (session=\"6aec50b4446f45cbc8f8ba444cf3f44f\", element=\"ffdbe9ac-4b1c-4272-a521-6d555489e630\")>,\n",
       " <selenium.webdriver.remote.webelement.WebElement (session=\"6aec50b4446f45cbc8f8ba444cf3f44f\", element=\"511209b7-4b9b-4f6e-990b-788af31ce40e\")>,\n",
       " <selenium.webdriver.remote.webelement.WebElement (session=\"6aec50b4446f45cbc8f8ba444cf3f44f\", element=\"0f57f896-df9b-4b8c-886f-8e396c91d89c\")>,\n",
       " <selenium.webdriver.remote.webelement.WebElement (session=\"6aec50b4446f45cbc8f8ba444cf3f44f\", element=\"e12f0829-0976-4bd9-b56e-ff5ae6fc0b2a\")>,\n",
       " <selenium.webdriver.remote.webelement.WebElement (session=\"6aec50b4446f45cbc8f8ba444cf3f44f\", element=\"0f7c673c-5684-4d1e-a132-b2c2161fef34\")>,\n",
       " <selenium.webdriver.remote.webelement.WebElement (session=\"6aec50b4446f45cbc8f8ba444cf3f44f\", element=\"06f2a124-dbea-466a-9658-6b60ed76c9b7\")>,\n",
       " <selenium.webdriver.remote.webelement.WebElement (session=\"6aec50b4446f45cbc8f8ba444cf3f44f\", element=\"6ee92676-8406-4732-8bd8-2d36095da872\")>,\n",
       " <selenium.webdriver.remote.webelement.WebElement (session=\"6aec50b4446f45cbc8f8ba444cf3f44f\", element=\"d1289b6b-3e50-4daf-afe0-83de3bf6779d\")>]"
      ]
     },
     "execution_count": 345,
     "metadata": {},
     "output_type": "execute_result"
    }
   ],
   "source": [
    "tit1=driver.find_elements_by_xpath(\"//span[@class='a-size-medium a-color-base a-text-normal']\")\n",
    "tit1"
   ]
  },
  {
   "cell_type": "code",
   "execution_count": 346,
   "id": "57b3e926",
   "metadata": {},
   "outputs": [
    {
     "data": {
      "text/plain": [
       "['Acer Nitro 5 AN515-57 Gaming Laptop | Intel Core i7-11800H |NVIDIA GeForce RTX 3050 Laptop Graphics |15.6\" FHD 144Hz IPS Display |8GB DDR4 | 256GB SSD+1TB HDD | Killer Wi-Fi 6 | RGB Backlit Keyboard',\n",
       " 'Fujitsu UH-X 11th Gen Intel i7 Core 13.3 inches FHD IPS 400Nits Thin and Light Business Laptop (16GB/512GB SSD/Windows 10/Office/Iris Xe Graphics/Backlit Kb/ Fingerprint Reader/Black/0.878kg), 4ZR1D67596',\n",
       " 'HP Pavilion (2021) Intel 11th Gen Core i7 14 inches FHD Screen Thin & Light Laptop, 16 GB RAM, 1TB SSD, Iris Xe Graphics, Windows 10, MS Office, Backlit Keyboard, 1.41kg (14-dv0058TU)',\n",
       " 'Lenovo ThinkBook 15 Intel 11th Gen Core i7 15.6\"(39.62 cm)FHD IPS 300 nits Antiglare 100% sRGB Thin & Light Laptop(16GB/1TB HDD+128GB SSD/Windows 10/MS Office/3 Yr Onsite Warranty/1.7 Kg) 20VEA0HBIH',\n",
       " 'Mi Notebook Horizon Edition 14 Intel Core i7-10510U 10th Gen Thin and Light Laptop(8GB/512GB SSD/Windows 10/Nvidia MX350 2GB Graphics/Grey/1.35Kg)(Without Webcam) XMA1904-AF',\n",
       " 'Mi Notebook Pro QHD+ IPS Anti Glare Display Intel Core i7-11370H 11th Gen 14-inch(35.56 cms) Thin and Light Laptop (16GB/512GB SSD/Iris Xe Graphics/Win 10/Backlit KB/Fingerprint Sensor/1.4 Kg)',\n",
       " 'ASUS TUF Dash F15 (2021), 15.6-inch (39.62 cms) FHD 144Hz, Intel Core i7-11370H 11th Gen, RTX 3050 4GB Graphics Gaming Laptop (16GB RAM/512GB SSD/Windows 10/Gray/2 kg), FX516PC-HN063T',\n",
       " 'Lenovo IdeaPad Gaming 3 11th Gen Intel Core i7-11370H 15.6\" (39.63cm) FHD IPS Gaming Laptop (8GB/512GB SSD/Windows 10/NVIDIA RTX 3050 4GB/120Hz Refresh Display/Shadow Black/2.25Kg), 82K1004EIN',\n",
       " 'ASUS TUF Dash F15 (2021) 15.6-inch (39.62 cms) FHD 144Hz, Intel Core i7-11370H 11th Gen, RTX 3060 6GB Graphics, Gaming Laptop (16GB/512GB SSD/Office 2019/Windows 10/Gray/2 Kg), FX516PM-HN175TS',\n",
       " 'Mi Notebook Ultra 3.2K resolution display Intel Core i7-11370H 11th Gen 15.6-inch(39.62 cm) Thin and Light laptop (16GB/512GB SSD/Iris Xe Graphics/Win 10/MS Office/Backlit KB/Fingerprint sensor/1.7Kg)']"
      ]
     },
     "execution_count": 346,
     "metadata": {},
     "output_type": "execute_result"
    }
   ],
   "source": [
    "t1=[]\n",
    "for i in tit1[:10]:\n",
    "    t1.append(i.text.replace(\"\\n\",''))\n",
    "t1"
   ]
  },
  {
   "cell_type": "code",
   "execution_count": 347,
   "id": "dda16f10",
   "metadata": {},
   "outputs": [
    {
     "data": {
      "text/plain": [
       "['4.1 out of 5 stars',\n",
       " '120',\n",
       " '4.3 out of 5 stars',\n",
       " '28',\n",
       " '4.3 out of 5 stars',\n",
       " '512',\n",
       " '4.3 out of 5 stars',\n",
       " '37',\n",
       " '4.2 out of 5 stars',\n",
       " '963',\n",
       " '4.3 out of 5 stars',\n",
       " '588',\n",
       " '4.0 out of 5 stars',\n",
       " '186',\n",
       " '4.9 out of 5 stars',\n",
       " '5',\n",
       " '4.3 out of 5 stars',\n",
       " '27',\n",
       " '4.3 out of 5 stars',\n",
       " '513',\n",
       " '4.6 out of 5 stars',\n",
       " '24',\n",
       " '3.6 out of 5 stars',\n",
       " '6',\n",
       " '4.0 out of 5 stars',\n",
       " '64',\n",
       " '4.1 out of 5 stars',\n",
       " '120',\n",
       " '4.2 out of 5 stars',\n",
       " '39',\n",
       " '4.3 out of 5 stars',\n",
       " '176',\n",
       " '4.5 out of 5 stars',\n",
       " '6',\n",
       " '4.5 out of 5 stars',\n",
       " '95',\n",
       " '3.8 out of 5 stars',\n",
       " '7',\n",
       " '4.3 out of 5 stars',\n",
       " '464',\n",
       " '3.2 out of 5 stars',\n",
       " '6',\n",
       " '4.3 out of 5 stars',\n",
       " '115',\n",
       " '4.0 out of 5 stars',\n",
       " '1',\n",
       " '3.5 out of 5 stars',\n",
       " '3',\n",
       " '4.0 out of 5 stars',\n",
       " '4',\n",
       " '4.1 out of 5 stars',\n",
       " '6']"
      ]
     },
     "execution_count": 347,
     "metadata": {},
     "output_type": "execute_result"
    }
   ],
   "source": [
    "ratings=[]\n",
    "for i in driver.find_elements_by_xpath(\"//div[@class='a-row a-size-small']/span\"):\n",
    "    ratings.append(i.get_attribute('aria-label'))\n",
    "ratings"
   ]
  },
  {
   "cell_type": "code",
   "execution_count": 348,
   "id": "b00b6db6",
   "metadata": {},
   "outputs": [
    {
     "data": {
      "text/plain": [
       "['4.1 out of 5 stars',\n",
       " '4.3 out of 5 stars',\n",
       " '4.3 out of 5 stars',\n",
       " '4.3 out of 5 stars',\n",
       " '4.2 out of 5 stars',\n",
       " '4.3 out of 5 stars',\n",
       " '4.0 out of 5 stars',\n",
       " '4.9 out of 5 stars',\n",
       " '4.3 out of 5 stars',\n",
       " '4.3 out of 5 stars',\n",
       " '4.6 out of 5 stars',\n",
       " '3.6 out of 5 stars',\n",
       " '4.0 out of 5 stars',\n",
       " '4.1 out of 5 stars',\n",
       " '4.2 out of 5 stars',\n",
       " '4.3 out of 5 stars',\n",
       " '4.5 out of 5 stars',\n",
       " '4.5 out of 5 stars',\n",
       " '3.8 out of 5 stars',\n",
       " '4.3 out of 5 stars',\n",
       " '3.2 out of 5 stars',\n",
       " '4.3 out of 5 stars',\n",
       " '4.0 out of 5 stars',\n",
       " '3.5 out of 5 stars',\n",
       " '4.0 out of 5 stars',\n",
       " '4.1 out of 5 stars']"
      ]
     },
     "execution_count": 348,
     "metadata": {},
     "output_type": "execute_result"
    }
   ],
   "source": [
    "ratings1=[]\n",
    "for i in range(0,len(ratings),2):\n",
    "    ratings1.append(ratings[i])\n",
    "ratings1"
   ]
  },
  {
   "cell_type": "code",
   "execution_count": 349,
   "id": "52947ecf",
   "metadata": {},
   "outputs": [
    {
     "data": {
      "text/plain": [
       "['4.1 out of 5 stars',\n",
       " '4.3 out of 5 stars',\n",
       " '4.3 out of 5 stars',\n",
       " '4.3 out of 5 stars',\n",
       " '4.2 out of 5 stars',\n",
       " '4.3 out of 5 stars',\n",
       " '4.0 out of 5 stars',\n",
       " '4.9 out of 5 stars',\n",
       " '4.3 out of 5 stars',\n",
       " '4.3 out of 5 stars']"
      ]
     },
     "execution_count": 349,
     "metadata": {},
     "output_type": "execute_result"
    }
   ],
   "source": [
    "rating=ratings1[:10]\n",
    "rating"
   ]
  },
  {
   "cell_type": "code",
   "execution_count": 350,
   "id": "55abbe5b",
   "metadata": {},
   "outputs": [],
   "source": [
    "price1=[]\n",
    "price=driver.find_elements_by_xpath(\"//span[@class='a-price-whole']\")\n",
    "for i in price[:10]:\n",
    "    price1.append(i.text)"
   ]
  },
  {
   "cell_type": "code",
   "execution_count": 351,
   "id": "fc10fcd7",
   "metadata": {},
   "outputs": [
    {
     "data": {
      "text/plain": [
       "['88,990',\n",
       " '92,990',\n",
       " '84,990',\n",
       " '85,990',\n",
       " '52,999',\n",
       " '73,999',\n",
       " '89,990',\n",
       " '82,990',\n",
       " '1,09,990',\n",
       " '77,999']"
      ]
     },
     "execution_count": 351,
     "metadata": {},
     "output_type": "execute_result"
    }
   ],
   "source": [
    "price1"
   ]
  },
  {
   "cell_type": "code",
   "execution_count": 352,
   "id": "c7a6df7a",
   "metadata": {},
   "outputs": [],
   "source": [
    "Laptop=pd.DataFrame({})"
   ]
  },
  {
   "cell_type": "code",
   "execution_count": 353,
   "id": "f271a554",
   "metadata": {},
   "outputs": [],
   "source": [
    "Laptop['Titles']=t1\n",
    "Laptop['Price']=price1\n",
    "Laptop['Average rating']=rating"
   ]
  },
  {
   "cell_type": "code",
   "execution_count": 354,
   "id": "2f5d2259",
   "metadata": {},
   "outputs": [
    {
     "data": {
      "text/html": [
       "<div>\n",
       "<style scoped>\n",
       "    .dataframe tbody tr th:only-of-type {\n",
       "        vertical-align: middle;\n",
       "    }\n",
       "\n",
       "    .dataframe tbody tr th {\n",
       "        vertical-align: top;\n",
       "    }\n",
       "\n",
       "    .dataframe thead th {\n",
       "        text-align: right;\n",
       "    }\n",
       "</style>\n",
       "<table border=\"1\" class=\"dataframe\">\n",
       "  <thead>\n",
       "    <tr style=\"text-align: right;\">\n",
       "      <th></th>\n",
       "      <th>Titles</th>\n",
       "      <th>Price</th>\n",
       "      <th>Average rating</th>\n",
       "    </tr>\n",
       "  </thead>\n",
       "  <tbody>\n",
       "    <tr>\n",
       "      <th>0</th>\n",
       "      <td>Acer Nitro 5 AN515-57 Gaming Laptop | Intel Co...</td>\n",
       "      <td>88,990</td>\n",
       "      <td>4.1 out of 5 stars</td>\n",
       "    </tr>\n",
       "    <tr>\n",
       "      <th>1</th>\n",
       "      <td>Fujitsu UH-X 11th Gen Intel i7 Core 13.3 inche...</td>\n",
       "      <td>92,990</td>\n",
       "      <td>4.3 out of 5 stars</td>\n",
       "    </tr>\n",
       "    <tr>\n",
       "      <th>2</th>\n",
       "      <td>HP Pavilion (2021) Intel 11th Gen Core i7 14 i...</td>\n",
       "      <td>84,990</td>\n",
       "      <td>4.3 out of 5 stars</td>\n",
       "    </tr>\n",
       "    <tr>\n",
       "      <th>3</th>\n",
       "      <td>Lenovo ThinkBook 15 Intel 11th Gen Core i7 15....</td>\n",
       "      <td>85,990</td>\n",
       "      <td>4.3 out of 5 stars</td>\n",
       "    </tr>\n",
       "    <tr>\n",
       "      <th>4</th>\n",
       "      <td>Mi Notebook Horizon Edition 14 Intel Core i7-1...</td>\n",
       "      <td>52,999</td>\n",
       "      <td>4.2 out of 5 stars</td>\n",
       "    </tr>\n",
       "    <tr>\n",
       "      <th>5</th>\n",
       "      <td>Mi Notebook Pro QHD+ IPS Anti Glare Display In...</td>\n",
       "      <td>73,999</td>\n",
       "      <td>4.3 out of 5 stars</td>\n",
       "    </tr>\n",
       "    <tr>\n",
       "      <th>6</th>\n",
       "      <td>ASUS TUF Dash F15 (2021), 15.6-inch (39.62 cms...</td>\n",
       "      <td>89,990</td>\n",
       "      <td>4.0 out of 5 stars</td>\n",
       "    </tr>\n",
       "    <tr>\n",
       "      <th>7</th>\n",
       "      <td>Lenovo IdeaPad Gaming 3 11th Gen Intel Core i7...</td>\n",
       "      <td>82,990</td>\n",
       "      <td>4.9 out of 5 stars</td>\n",
       "    </tr>\n",
       "    <tr>\n",
       "      <th>8</th>\n",
       "      <td>ASUS TUF Dash F15 (2021) 15.6-inch (39.62 cms)...</td>\n",
       "      <td>1,09,990</td>\n",
       "      <td>4.3 out of 5 stars</td>\n",
       "    </tr>\n",
       "    <tr>\n",
       "      <th>9</th>\n",
       "      <td>Mi Notebook Ultra 3.2K resolution display Inte...</td>\n",
       "      <td>77,999</td>\n",
       "      <td>4.3 out of 5 stars</td>\n",
       "    </tr>\n",
       "  </tbody>\n",
       "</table>\n",
       "</div>"
      ],
      "text/plain": [
       "                                              Titles     Price  \\\n",
       "0  Acer Nitro 5 AN515-57 Gaming Laptop | Intel Co...    88,990   \n",
       "1  Fujitsu UH-X 11th Gen Intel i7 Core 13.3 inche...    92,990   \n",
       "2  HP Pavilion (2021) Intel 11th Gen Core i7 14 i...    84,990   \n",
       "3  Lenovo ThinkBook 15 Intel 11th Gen Core i7 15....    85,990   \n",
       "4  Mi Notebook Horizon Edition 14 Intel Core i7-1...    52,999   \n",
       "5  Mi Notebook Pro QHD+ IPS Anti Glare Display In...    73,999   \n",
       "6  ASUS TUF Dash F15 (2021), 15.6-inch (39.62 cms...    89,990   \n",
       "7  Lenovo IdeaPad Gaming 3 11th Gen Intel Core i7...    82,990   \n",
       "8  ASUS TUF Dash F15 (2021) 15.6-inch (39.62 cms)...  1,09,990   \n",
       "9  Mi Notebook Ultra 3.2K resolution display Inte...    77,999   \n",
       "\n",
       "       Average rating  \n",
       "0  4.1 out of 5 stars  \n",
       "1  4.3 out of 5 stars  \n",
       "2  4.3 out of 5 stars  \n",
       "3  4.3 out of 5 stars  \n",
       "4  4.2 out of 5 stars  \n",
       "5  4.3 out of 5 stars  \n",
       "6  4.0 out of 5 stars  \n",
       "7  4.9 out of 5 stars  \n",
       "8  4.3 out of 5 stars  \n",
       "9  4.3 out of 5 stars  "
      ]
     },
     "execution_count": 354,
     "metadata": {},
     "output_type": "execute_result"
    }
   ],
   "source": [
    "Laptop"
   ]
  },
  {
   "cell_type": "markdown",
   "id": "188443fe",
   "metadata": {},
   "source": [
    "# Question 4"
   ]
  },
  {
   "cell_type": "markdown",
   "id": "048aa1cc",
   "metadata": {},
   "source": [
    "Scrape data of first 100 sunglasses listings on flipkart.com. You have to scrape four attributes:"
   ]
  },
  {
   "cell_type": "markdown",
   "id": "81331a1a",
   "metadata": {},
   "source": [
    "1. Brand\n",
    "2.Product Description \n",
    "3.Price To scrape the data you have to go through following steps:\n",
    "4.Go to Flipkart webpage by url : https://www.flipkart.com/\n",
    "5.Enter “sunglasses” in the search field where “search for products, brands and more” is written and click the search icon\n",
    "6.After that you will reach to the page having a lot of sunglasses. From this page you can scrap the required data as usual. ASSIGNMENT 2\n",
    "7.After scraping data from the first page, go to the “Next” Button at the bottom of the page , then click on it.\n",
    "8.Now scrape data from this page as usual\n",
    "9.Repeat this until you get data for 100 sunglasses."
   ]
  },
  {
   "cell_type": "code",
   "execution_count": 119,
   "id": "be509d55",
   "metadata": {},
   "outputs": [],
   "source": [
    "driver=webdriver.Chrome(r\"C:/Users/91897/Downloads/chromedriver_win32/chromedriver.exe\")"
   ]
  },
  {
   "cell_type": "code",
   "execution_count": 120,
   "id": "8a15e102",
   "metadata": {},
   "outputs": [],
   "source": [
    "driver.get('https://www.flipkart.com/')"
   ]
  },
  {
   "cell_type": "code",
   "execution_count": 121,
   "id": "791b007e",
   "metadata": {},
   "outputs": [],
   "source": [
    "search = driver.find_element_by_xpath(\"//div[@class='_3OO5Xc']/input\")\n",
    "search.send_keys('sunglasses')"
   ]
  },
  {
   "cell_type": "code",
   "execution_count": 123,
   "id": "ac7fca5d",
   "metadata": {},
   "outputs": [],
   "source": [
    "btn=driver.find_element_by_xpath(\"//button[@class='L0Z3Pu']\")\n",
    "btn.click()"
   ]
  },
  {
   "cell_type": "code",
   "execution_count": 124,
   "id": "539a3742",
   "metadata": {},
   "outputs": [],
   "source": [
    "brand=[]\n",
    "description=[]\n",
    "price=[]\n",
    "offer=[]"
   ]
  },
  {
   "cell_type": "code",
   "execution_count": 125,
   "id": "5ab46f4f",
   "metadata": {},
   "outputs": [],
   "source": [
    "name = driver.find_elements_by_xpath(\"//div[@class='_2WkVRV']\")\n",
    "info = driver.find_elements_by_xpath(\"//a[@class='IRpwTa']\")\n",
    "p = driver.find_elements_by_xpath(\"//div[@class='_30jeq3']\")\n",
    "discount = driver.find_elements_by_xpath(\"//div[@class='_3Ay6Sb']/span\")\n",
    "for i in name:\n",
    "    names=i.text\n",
    "    brand.append(names)\n",
    "#brand\n",
    "for i in info:\n",
    "    infos=i.text\n",
    "    description.append(infos)\n",
    "#description\n",
    "for i in p:\n",
    "    ps = i.text\n",
    "    price.append(ps)\n",
    "#price\n",
    "for i in discount:\n",
    "    d=i.text\n",
    "    offer.append(d)\n",
    "#offer"
   ]
  },
  {
   "cell_type": "code",
   "execution_count": 126,
   "id": "8ceae121",
   "metadata": {},
   "outputs": [],
   "source": [
    "data = list(zip(brand,description,price,offer))"
   ]
  },
  {
   "cell_type": "code",
   "execution_count": 127,
   "id": "4ed63824",
   "metadata": {},
   "outputs": [],
   "source": [
    "df=pd.DataFrame(data,columns=['Brands','Description','Price','Offer'])"
   ]
  },
  {
   "cell_type": "code",
   "execution_count": 128,
   "id": "cceb39c4",
   "metadata": {},
   "outputs": [],
   "source": [
    "next = driver.find_element_by_xpath(\"//a[@class='_1LKTO3']/span\")\n",
    "next.click()"
   ]
  },
  {
   "cell_type": "code",
   "execution_count": 129,
   "id": "1f8d3bed",
   "metadata": {},
   "outputs": [],
   "source": [
    "brand1=[]\n",
    "description1=[]\n",
    "price1=[]\n",
    "offer1=[]"
   ]
  },
  {
   "cell_type": "code",
   "execution_count": 130,
   "id": "811c4404",
   "metadata": {},
   "outputs": [],
   "source": [
    "a=driver.find_elements_by_xpath(\"//div[@class='_2WkVRV']\")\n",
    "b=driver.find_elements_by_xpath(\"//a[@class='IRpwTa']\")\n",
    "c=driver.find_elements_by_xpath(\"//div[@class='_30jeq3']\")\n",
    "d=driver.find_elements_by_xpath(\"//div[@class='_3Ay6Sb']/span\")\n",
    "\n",
    "for i in a:\n",
    "    name=i.text\n",
    "    brand1.append(name)\n",
    "#brand1\n",
    "for i in b:\n",
    "    des=i.text\n",
    "    description1.append(des)\n",
    "#description1\n",
    "for i in c:\n",
    "    cost=i.text\n",
    "    price1.append(cost)\n",
    "#price1\n",
    "for i in d:\n",
    "    discount=i.text\n",
    "    offer1.append(discount)\n",
    "#offer1"
   ]
  },
  {
   "cell_type": "code",
   "execution_count": 131,
   "id": "1fa1ea0a",
   "metadata": {},
   "outputs": [],
   "source": [
    "data1=list(zip(brand1,description1,price1,offer1))"
   ]
  },
  {
   "cell_type": "code",
   "execution_count": 132,
   "id": "92dc66f6",
   "metadata": {},
   "outputs": [],
   "source": [
    "df1=pd.DataFrame(data1,columns=['Brands','Description','Price','Offer'])"
   ]
  },
  {
   "cell_type": "code",
   "execution_count": 133,
   "id": "055f9f06",
   "metadata": {},
   "outputs": [],
   "source": [
    "driver.find_element_by_xpath(\"//nav[@class='yFHi8N']/a[3]\").click()"
   ]
  },
  {
   "cell_type": "code",
   "execution_count": 134,
   "id": "54eedf4f",
   "metadata": {},
   "outputs": [],
   "source": [
    "brand2=[]\n",
    "description2=[]\n",
    "price2=[]\n",
    "offer2=[]"
   ]
  },
  {
   "cell_type": "code",
   "execution_count": 135,
   "id": "34d2dd50",
   "metadata": {},
   "outputs": [],
   "source": [
    "e=driver.find_elements_by_xpath(\"//div[@class='_2WkVRV']\")\n",
    "f=driver.find_elements_by_xpath(\"//a[@class='IRpwTa']\")\n",
    "g=driver.find_elements_by_xpath(\"//div[@class='_30jeq3']\")\n",
    "h=driver.find_elements_by_xpath(\"//div[@class='_3Ay6Sb']/span\")\n",
    "\n",
    "for i in e:\n",
    "    name=i.text\n",
    "    brand2.append(name)\n",
    "#brand1\n",
    "for i in f:\n",
    "    des=i.text\n",
    "    description2.append(des)\n",
    "#description1\n",
    "for i in g:\n",
    "    cost=i.text\n",
    "    price2.append(cost)\n",
    "#price1\n",
    "for i in h:\n",
    "    discount=i.text\n",
    "    offer2.append(discount)\n",
    "#offer1"
   ]
  },
  {
   "cell_type": "code",
   "execution_count": 136,
   "id": "92286524",
   "metadata": {},
   "outputs": [
    {
     "data": {
      "text/html": [
       "<div>\n",
       "<style scoped>\n",
       "    .dataframe tbody tr th:only-of-type {\n",
       "        vertical-align: middle;\n",
       "    }\n",
       "\n",
       "    .dataframe tbody tr th {\n",
       "        vertical-align: top;\n",
       "    }\n",
       "\n",
       "    .dataframe thead th {\n",
       "        text-align: right;\n",
       "    }\n",
       "</style>\n",
       "<table border=\"1\" class=\"dataframe\">\n",
       "  <thead>\n",
       "    <tr style=\"text-align: right;\">\n",
       "      <th></th>\n",
       "      <th>Description</th>\n",
       "      <th>Price</th>\n",
       "      <th>Offer</th>\n",
       "    </tr>\n",
       "    <tr>\n",
       "      <th>Brands</th>\n",
       "      <th></th>\n",
       "      <th></th>\n",
       "      <th></th>\n",
       "    </tr>\n",
       "  </thead>\n",
       "  <tbody>\n",
       "    <tr>\n",
       "      <th>PHENOMENAL</th>\n",
       "      <td>UV Protection, Mirrored Retro Square Sunglasse...</td>\n",
       "      <td>₹299</td>\n",
       "      <td>85% off</td>\n",
       "    </tr>\n",
       "    <tr>\n",
       "      <th>ROYAL SON</th>\n",
       "      <td>Polarized, UV Protection Round Sunglasses (53)</td>\n",
       "      <td>₹664</td>\n",
       "      <td>66% off</td>\n",
       "    </tr>\n",
       "    <tr>\n",
       "      <th>SRPM</th>\n",
       "      <td>UV Protection Wayfarer Sunglasses (56)</td>\n",
       "      <td>₹188</td>\n",
       "      <td>85% off</td>\n",
       "    </tr>\n",
       "    <tr>\n",
       "      <th>Elligator</th>\n",
       "      <td>UV Protection Round Sunglasses (54)</td>\n",
       "      <td>₹248</td>\n",
       "      <td>90% off</td>\n",
       "    </tr>\n",
       "    <tr>\n",
       "      <th>PIRASO</th>\n",
       "      <td>UV Protection Aviator Sunglasses (54)</td>\n",
       "      <td>₹187</td>\n",
       "      <td>88% off</td>\n",
       "    </tr>\n",
       "    <tr>\n",
       "      <th>...</th>\n",
       "      <td>...</td>\n",
       "      <td>...</td>\n",
       "      <td>...</td>\n",
       "    </tr>\n",
       "    <tr>\n",
       "      <th>ROZZETTA CRAFT</th>\n",
       "      <td>UV Protection Rectangular Sunglasses (Free Size)</td>\n",
       "      <td>₹319</td>\n",
       "      <td>78% off</td>\n",
       "    </tr>\n",
       "    <tr>\n",
       "      <th>ROYAL SON</th>\n",
       "      <td>UV Protection Round Sunglasses (50)</td>\n",
       "      <td>₹359</td>\n",
       "      <td>76% off</td>\n",
       "    </tr>\n",
       "    <tr>\n",
       "      <th>AISLIN</th>\n",
       "      <td>Toughened Glass Lens, UV Protection Wayfarer, ...</td>\n",
       "      <td>₹924</td>\n",
       "      <td>75% off</td>\n",
       "    </tr>\n",
       "    <tr>\n",
       "      <th>ROYAL SON</th>\n",
       "      <td>Mirrored Aviator Sunglasses (55)</td>\n",
       "      <td>₹359</td>\n",
       "      <td>76% off</td>\n",
       "    </tr>\n",
       "    <tr>\n",
       "      <th>ROYAL SON</th>\n",
       "      <td>UV Protection, Gradient Butterfly Sunglasses (60)</td>\n",
       "      <td>₹664</td>\n",
       "      <td>66% off</td>\n",
       "    </tr>\n",
       "  </tbody>\n",
       "</table>\n",
       "<p>100 rows × 3 columns</p>\n",
       "</div>"
      ],
      "text/plain": [
       "                                                      Description Price  \\\n",
       "Brands                                                                    \n",
       "PHENOMENAL      UV Protection, Mirrored Retro Square Sunglasse...  ₹299   \n",
       "ROYAL SON          Polarized, UV Protection Round Sunglasses (53)  ₹664   \n",
       "SRPM                       UV Protection Wayfarer Sunglasses (56)  ₹188   \n",
       "Elligator                     UV Protection Round Sunglasses (54)  ₹248   \n",
       "PIRASO                      UV Protection Aviator Sunglasses (54)  ₹187   \n",
       "...                                                           ...   ...   \n",
       "ROZZETTA CRAFT   UV Protection Rectangular Sunglasses (Free Size)  ₹319   \n",
       "ROYAL SON                     UV Protection Round Sunglasses (50)  ₹359   \n",
       "AISLIN          Toughened Glass Lens, UV Protection Wayfarer, ...  ₹924   \n",
       "ROYAL SON                        Mirrored Aviator Sunglasses (55)  ₹359   \n",
       "ROYAL SON       UV Protection, Gradient Butterfly Sunglasses (60)  ₹664   \n",
       "\n",
       "                  Offer  \n",
       "Brands                   \n",
       "PHENOMENAL      85% off  \n",
       "ROYAL SON       66% off  \n",
       "SRPM            85% off  \n",
       "Elligator       90% off  \n",
       "PIRASO          88% off  \n",
       "...                 ...  \n",
       "ROZZETTA CRAFT  78% off  \n",
       "ROYAL SON       76% off  \n",
       "AISLIN          75% off  \n",
       "ROYAL SON       76% off  \n",
       "ROYAL SON       66% off  \n",
       "\n",
       "[100 rows x 3 columns]"
      ]
     },
     "execution_count": 136,
     "metadata": {},
     "output_type": "execute_result"
    }
   ],
   "source": [
    "data2=list(zip(brand2,description2,price2,offer2))\n",
    "df2=pd.DataFrame(data2,columns=['Brands','Description','Price','Offer'])\n",
    "final=pd.concat([df,df1,df2], axis=0)\n",
    "final.set_index('Brands',inplace=True)\n",
    "final[0:100]"
   ]
  },
  {
   "cell_type": "markdown",
   "id": "d7263356",
   "metadata": {},
   "source": [
    "# Question 5\n",
    "Scrape 100 reviews data from flipkart.com for iphone11 phone. You have to go the link: https://www.flipkart.com/apple-iphone-11-black-64-gb-includes- earpods-poweradapter/p/itm0f37c2240b217?pid=MOBFKCTSVZAXUHGR&lid=LSTMOBFKC TSVZAXUHGREPBFGI&marketplace. As shown in the above page you have to scrape the tick marked attributes. These are:\n",
    "\n",
    "1.Rating\n",
    "2.Review_summary\n",
    "3.Full review\n",
    "4.You have to scrape this data for first 100 reviews."
   ]
  },
  {
   "cell_type": "code",
   "execution_count": 137,
   "id": "73902100",
   "metadata": {},
   "outputs": [],
   "source": [
    "driver=webdriver.Chrome(r\"C:/Users/91897/Downloads/chromedriver_win32/chromedriver.exe\")"
   ]
  },
  {
   "cell_type": "code",
   "execution_count": 138,
   "id": "f442101f",
   "metadata": {},
   "outputs": [],
   "source": [
    "url=\"https://www.flipkart.com/apple-iphone-11-black-64-gb-includes- earpods-poweradapter/p/itm0f37c2240b217?pid=MOBFKCTSVZAXUHGR&lid=LSTMOBFKCTSVZAXUHGREPBFGI&marketplace\"\n",
    "driver.get(url)"
   ]
  },
  {
   "cell_type": "code",
   "execution_count": 139,
   "id": "cd9d8aa6",
   "metadata": {},
   "outputs": [],
   "source": [
    "all_reviews=driver.find_element_by_xpath(\"//div[@class='_3UAT2v _16PBlm']/span\")\n",
    "all_reviews.click()"
   ]
  },
  {
   "cell_type": "code",
   "execution_count": 140,
   "id": "c319d079",
   "metadata": {},
   "outputs": [],
   "source": [
    "rating=[]\n",
    "review_summary=[]\n",
    "full_review=[]\n",
    "full_review_1=[]\n",
    "\n",
    "r=driver.find_elements_by_xpath(\"//div[@class='_3LWZlK _1BLPMq']\")\n",
    "rs=driver.find_elements_by_xpath(\"//p[@class='_2-N8zT']\")\n",
    "fr=driver.find_elements_by_xpath(\"//div[@class='_2-N8zT']\")\n",
    "fr_1=driver.find_elements_by_xpath(\"//div[@class='t-ZTKy']\")\n",
    "\n",
    "for i in r:\n",
    "    rat=i.text\n",
    "    rating.append(rat)\n",
    "    \n",
    "for i in rs:\n",
    "    rev=i.text\n",
    "    review_summary.append(rev)\n",
    "\n",
    "for i in fr:\n",
    "    full=i.text\n",
    "    full_review.append(full)\n",
    "    \n",
    "for i in fr_1:\n",
    "    ful=i.text\n",
    "    full_review_1.append(ful)"
   ]
  },
  {
   "cell_type": "code",
   "execution_count": 141,
   "id": "da0759b6",
   "metadata": {},
   "outputs": [],
   "source": [
    "#full_review\n",
    "full_review.extend(full_review_1)"
   ]
  },
  {
   "cell_type": "code",
   "execution_count": 143,
   "id": "4abda2f2",
   "metadata": {},
   "outputs": [],
   "source": [
    "data=list(zip(rating,review_summary,full_review))\n",
    "df=pd.DataFrame(data,columns=['Ratings','Review','Full_Review'])"
   ]
  },
  {
   "cell_type": "code",
   "execution_count": 144,
   "id": "1115e3fb",
   "metadata": {},
   "outputs": [],
   "source": [
    "next = driver.find_element_by_xpath(\"//a[@class='_1LKTO3']/span\")\n",
    "next.click()"
   ]
  },
  {
   "cell_type": "code",
   "execution_count": 145,
   "id": "97b856d8",
   "metadata": {},
   "outputs": [],
   "source": [
    "rating0=[]\n",
    "review_summary0=[]\n",
    "full_review0=[]"
   ]
  },
  {
   "cell_type": "code",
   "execution_count": 146,
   "id": "aa329bab",
   "metadata": {},
   "outputs": [],
   "source": [
    "r0=driver.find_elements_by_xpath(\"//div[@class='_3LWZlK _1BLPMq']\")\n",
    "rs0=driver.find_elements_by_xpath(\"//p[@class='_2-N8zT']\")\n",
    "fr0=driver.find_elements_by_xpath(\"//div[@class='t-ZTKy']\")\n",
    "\n",
    "for i in r0:\n",
    "    rat=i.text\n",
    "    rating0.append(rat)\n",
    "    \n",
    "for i in rs0:\n",
    "    rev=i.text\n",
    "    review_summary0.append(rev)\n",
    "\n",
    "for i in fr0:\n",
    "    full=i.text\n",
    "    full_review0.append(full)"
   ]
  },
  {
   "cell_type": "code",
   "execution_count": 147,
   "id": "588033e9",
   "metadata": {},
   "outputs": [],
   "source": [
    "data1=list(zip(rating0,review_summary0,full_review0))\n",
    "df1=pd.DataFrame(data1,columns=['Ratings','Review','Full_Review'])"
   ]
  },
  {
   "cell_type": "code",
   "execution_count": 148,
   "id": "721c6f09",
   "metadata": {},
   "outputs": [],
   "source": [
    "three = driver.find_element_by_xpath(\"//nav[@class='yFHi8N']/a[3]\")\n",
    "three.click()"
   ]
  },
  {
   "cell_type": "code",
   "execution_count": 149,
   "id": "9fecdf0d",
   "metadata": {},
   "outputs": [],
   "source": [
    "rating1=[]\n",
    "review_summary1=[]\n",
    "full_review1=[]\n",
    "\n",
    "r1=driver.find_elements_by_xpath(\"//div[@class='_3LWZlK _1BLPMq']\")\n",
    "rs1=driver.find_elements_by_xpath(\"//p[@class='_2-N8zT']\")\n",
    "fr1=driver.find_elements_by_xpath(\"//div[@class='t-ZTKy']\")\n",
    "\n",
    "for i in r1:\n",
    "    rat=i.text\n",
    "    rating1.append(rat)\n",
    "    \n",
    "for i in rs1:\n",
    "    rev=i.text\n",
    "    review_summary1.append(rev)\n",
    "\n",
    "for i in fr1:\n",
    "    full=i.text\n",
    "    full_review1.append(full)"
   ]
  },
  {
   "cell_type": "code",
   "execution_count": 150,
   "id": "f8360e3a",
   "metadata": {},
   "outputs": [],
   "source": [
    "data2=list(zip(rating1,review_summary1,full_review1))\n",
    "df2=pd.DataFrame(data2,columns=['Ratings','Review','Full_Review'])"
   ]
  },
  {
   "cell_type": "code",
   "execution_count": null,
   "id": "7191edca",
   "metadata": {},
   "outputs": [],
   "source": [
    "four = driver.find_element_by_xpath(\"//nav[@class='yFHi8N']/a[4]\")\n",
    "four.click()"
   ]
  },
  {
   "cell_type": "code",
   "execution_count": 151,
   "id": "84bd36f2",
   "metadata": {},
   "outputs": [],
   "source": [
    "rating2=[]\n",
    "review_summary2=[]\n",
    "full_review2=[]\n",
    "\n",
    "r2=driver.find_elements_by_xpath(\"//div[@class='_3LWZlK _1BLPMq']\")\n",
    "rs2=driver.find_elements_by_xpath(\"//p[@class='_2-N8zT']\")\n",
    "fr2=driver.find_elements_by_xpath(\"//div[@class='t-ZTKy']\")\n",
    "\n",
    "for i in r2:\n",
    "    rat=i.text\n",
    "    rating2.append(rat)\n",
    "    \n",
    "for i in rs2:\n",
    "    rev=i.text\n",
    "    review_summary2.append(rev)\n",
    "\n",
    "for i in fr2:\n",
    "    full=i.text\n",
    "    full_review2.append(full)"
   ]
  },
  {
   "cell_type": "code",
   "execution_count": 152,
   "id": "aa51b32a",
   "metadata": {},
   "outputs": [],
   "source": [
    "data3=list(zip(rating2,review_summary2,full_review2))\n",
    "df3=pd.DataFrame(data3,columns=['Ratings','Review','Full_Review'])"
   ]
  },
  {
   "cell_type": "code",
   "execution_count": null,
   "id": "9518293e",
   "metadata": {},
   "outputs": [],
   "source": [
    "five = driver.find_element_by_xpath(\"//nav[@class='yFHi8N']/a[5]\")\n",
    "five.click()"
   ]
  },
  {
   "cell_type": "code",
   "execution_count": 153,
   "id": "db581c16",
   "metadata": {},
   "outputs": [],
   "source": [
    "rating3=[]\n",
    "review_summary3=[]\n",
    "full_review3=[]\n",
    "\n",
    "r3=driver.find_elements_by_xpath(\"//div[@class='_3LWZlK _1BLPMq']\")\n",
    "rs3=driver.find_elements_by_xpath(\"//p[@class='_2-N8zT']\")\n",
    "fr3=driver.find_elements_by_xpath(\"//div[@class='t-ZTKy']\")\n",
    "\n",
    "for i in r3:\n",
    "    rat=i.text\n",
    "    rating3.append(rat)\n",
    "    \n",
    "for i in rs3:\n",
    "    rev=i.text\n",
    "    review_summary3.append(rev)\n",
    "\n",
    "for i in fr3:\n",
    "    full=i.text\n",
    "    full_review3.append(full)"
   ]
  },
  {
   "cell_type": "code",
   "execution_count": 154,
   "id": "38777d8e",
   "metadata": {},
   "outputs": [],
   "source": [
    "data4=list(zip(rating3,review_summary3,full_review3))\n",
    "df4=pd.DataFrame(data4,columns=['Ratings','Review','Full_Review'])"
   ]
  },
  {
   "cell_type": "code",
   "execution_count": null,
   "id": "d711867f",
   "metadata": {},
   "outputs": [],
   "source": [
    "six = driver.find_element_by_xpath(\"//nav[@class='yFHi8N']/a[6]\")\n",
    "six.click()"
   ]
  },
  {
   "cell_type": "code",
   "execution_count": 155,
   "id": "506232dd",
   "metadata": {},
   "outputs": [],
   "source": [
    "rating4=[]\n",
    "review_summary4=[]\n",
    "full_review4=[]\n",
    "\n",
    "r4=driver.find_elements_by_xpath(\"//div[@class='_3LWZlK _1BLPMq']\")\n",
    "rs4=driver.find_elements_by_xpath(\"//p[@class='_2-N8zT']\")\n",
    "fr4=driver.find_elements_by_xpath(\"//div[@class='t-ZTKy']\")\n",
    "\n",
    "for i in r4:\n",
    "    rat=i.text\n",
    "    rating4.append(rat)\n",
    "    \n",
    "for i in rs4:\n",
    "    rev=i.text\n",
    "    review_summary4.append(rev)\n",
    "\n",
    "for i in fr4:\n",
    "    full=i.text\n",
    "    full_review4.append(full)"
   ]
  },
  {
   "cell_type": "code",
   "execution_count": 156,
   "id": "fb8f6491",
   "metadata": {},
   "outputs": [],
   "source": [
    "data5=list(zip(rating4,review_summary4,full_review4))\n",
    "df5=pd.DataFrame(data5,columns=['Ratings','Review','Full_Review'])"
   ]
  },
  {
   "cell_type": "code",
   "execution_count": null,
   "id": "edda71b4",
   "metadata": {},
   "outputs": [],
   "source": [
    "seven = driver.find_element_by_xpath(\"//nav[@class='yFHi8N']/a[7]\")\n",
    "seven.click()"
   ]
  },
  {
   "cell_type": "code",
   "execution_count": 157,
   "id": "228079b4",
   "metadata": {},
   "outputs": [],
   "source": [
    "rating5=[]\n",
    "review_summary5=[]\n",
    "full_review5=[]\n",
    "\n",
    "r5=driver.find_elements_by_xpath(\"//div[@class='_3LWZlK _1BLPMq']\")\n",
    "rs5=driver.find_elements_by_xpath(\"//p[@class='_2-N8zT']\")\n",
    "fr5=driver.find_elements_by_xpath(\"//div[@class='t-ZTKy']\")\n",
    "\n",
    "for i in r5:\n",
    "    rat=i.text\n",
    "    rating5.append(rat)\n",
    "    \n",
    "for i in rs5:\n",
    "    rev=i.text\n",
    "    review_summary5.append(rev)\n",
    "\n",
    "for i in fr5:\n",
    "    full=i.text\n",
    "    full_review5.append(full)"
   ]
  },
  {
   "cell_type": "code",
   "execution_count": 158,
   "id": "e8d153b7",
   "metadata": {},
   "outputs": [],
   "source": [
    "data6=list(zip(rating5,review_summary5,full_review5))\n",
    "df6=pd.DataFrame(data6,columns=['Ratings','Review','Full_Review'])"
   ]
  },
  {
   "cell_type": "code",
   "execution_count": 159,
   "id": "3df0ccd6",
   "metadata": {},
   "outputs": [],
   "source": [
    "eight = driver.find_element_by_xpath(\"//nav[@class='yFHi8N']/a[8]\")\n",
    "eight.click()"
   ]
  },
  {
   "cell_type": "code",
   "execution_count": 160,
   "id": "77aae0c1",
   "metadata": {},
   "outputs": [],
   "source": [
    "rating6=[]\n",
    "review_summary6=[]\n",
    "full_review6=[]\n",
    "\n",
    "r6=driver.find_elements_by_xpath(\"//div[@class='_3LWZlK _1BLPMq']\")\n",
    "rs6=driver.find_elements_by_xpath(\"//p[@class='_2-N8zT']\")\n",
    "fr6=driver.find_elements_by_xpath(\"//div[@class='t-ZTKy']\")\n",
    "\n",
    "for i in r6:\n",
    "    rat=i.text\n",
    "    rating6.append(rat)\n",
    "    \n",
    "for i in rs6:\n",
    "    rev=i.text\n",
    "    review_summary6.append(rev)\n",
    "\n",
    "for i in fr6:\n",
    "    full=i.text\n",
    "    full_review6.append(full)"
   ]
  },
  {
   "cell_type": "code",
   "execution_count": 161,
   "id": "96b788b2",
   "metadata": {},
   "outputs": [],
   "source": [
    "data7=list(zip(rating6,review_summary6,full_review6))\n",
    "df7=pd.DataFrame(data7,columns=['Ratings','Review','Full_Review'])"
   ]
  },
  {
   "cell_type": "code",
   "execution_count": 162,
   "id": "f26f44a9",
   "metadata": {},
   "outputs": [],
   "source": [
    "nine = driver.find_element_by_xpath(\"//nav[@class='yFHi8N']/a[9]\")\n",
    "nine.click()"
   ]
  },
  {
   "cell_type": "code",
   "execution_count": 163,
   "id": "fb6a0ab7",
   "metadata": {},
   "outputs": [],
   "source": [
    "rating7=[]\n",
    "review_summary7=[]\n",
    "full_review7=[]\n",
    "\n",
    "r7=driver.find_elements_by_xpath(\"//div[@class='_3LWZlK _1BLPMq']\")\n",
    "rs7=driver.find_elements_by_xpath(\"//p[@class='_2-N8zT']\")\n",
    "fr7=driver.find_elements_by_xpath(\"//div[@class='t-ZTKy']\")\n",
    "\n",
    "for i in r7:\n",
    "    rat=i.text\n",
    "    rating7.append(rat)\n",
    "    \n",
    "for i in rs7:\n",
    "    rev=i.text\n",
    "    review_summary7.append(rev)\n",
    "\n",
    "for i in fr7:\n",
    "    full=i.text\n",
    "    full_review7.append(full)"
   ]
  },
  {
   "cell_type": "code",
   "execution_count": 164,
   "id": "cfab3a88",
   "metadata": {},
   "outputs": [],
   "source": [
    "data8=list(zip(rating7,review_summary7,full_review7))\n",
    "df8=pd.DataFrame(data8,columns=['Ratings','Review','Full_Review'])"
   ]
  },
  {
   "cell_type": "code",
   "execution_count": 165,
   "id": "00feb915",
   "metadata": {},
   "outputs": [],
   "source": [
    "ten = driver.find_element_by_xpath(\"//nav[@class='yFHi8N']/a[10]\")\n",
    "ten.click()"
   ]
  },
  {
   "cell_type": "code",
   "execution_count": 166,
   "id": "7b1f441e",
   "metadata": {},
   "outputs": [],
   "source": [
    "rating8=[]\n",
    "review_summary8=[]\n",
    "full_review8=[]\n",
    "\n",
    "r8=driver.find_elements_by_xpath(\"//div[@class='_3LWZlK _1BLPMq']\")\n",
    "rs8=driver.find_elements_by_xpath(\"//p[@class='_2-N8zT']\")\n",
    "fr8=driver.find_elements_by_xpath(\"//div[@class='t-ZTKy']\")\n",
    "\n",
    "for i in r8:\n",
    "    rat=i.text\n",
    "    rating8.append(rat)\n",
    "    \n",
    "for i in rs8:\n",
    "    rev=i.text\n",
    "    review_summary8.append(rev)\n",
    "\n",
    "for i in fr8:\n",
    "    full=i.text\n",
    "    full_review8.append(full)"
   ]
  },
  {
   "cell_type": "code",
   "execution_count": 167,
   "id": "18af99b9",
   "metadata": {},
   "outputs": [],
   "source": [
    "data9=list(zip(rating8,review_summary8,full_review8))\n",
    "df9=pd.DataFrame(data9,columns=['Ratings','Review','Full_Review'])"
   ]
  },
  {
   "cell_type": "code",
   "execution_count": 168,
   "id": "b2514f37",
   "metadata": {},
   "outputs": [
    {
     "data": {
      "text/html": [
       "<div>\n",
       "<style scoped>\n",
       "    .dataframe tbody tr th:only-of-type {\n",
       "        vertical-align: middle;\n",
       "    }\n",
       "\n",
       "    .dataframe tbody tr th {\n",
       "        vertical-align: top;\n",
       "    }\n",
       "\n",
       "    .dataframe thead th {\n",
       "        text-align: right;\n",
       "    }\n",
       "</style>\n",
       "<table border=\"1\" class=\"dataframe\">\n",
       "  <thead>\n",
       "    <tr style=\"text-align: right;\">\n",
       "      <th></th>\n",
       "      <th>Review</th>\n",
       "      <th>Full_Review</th>\n",
       "    </tr>\n",
       "    <tr>\n",
       "      <th>Ratings</th>\n",
       "      <th></th>\n",
       "      <th></th>\n",
       "    </tr>\n",
       "  </thead>\n",
       "  <tbody>\n",
       "    <tr>\n",
       "      <th>5</th>\n",
       "      <td>Wonderful</td>\n",
       "      <td>Ok, so after almost 3 years I am again back in...</td>\n",
       "    </tr>\n",
       "    <tr>\n",
       "      <th>5</th>\n",
       "      <td>Must buy!</td>\n",
       "      <td>I will just say its an awesome phone. Starting...</td>\n",
       "    </tr>\n",
       "    <tr>\n",
       "      <th>5</th>\n",
       "      <td>Terrific</td>\n",
       "      <td>Have used both iPhone X and iPhone XR and I ca...</td>\n",
       "    </tr>\n",
       "    <tr>\n",
       "      <th>4</th>\n",
       "      <td>Worth every penny</td>\n",
       "      <td>Just go for it without a second thought, if yo...</td>\n",
       "    </tr>\n",
       "    <tr>\n",
       "      <th>5</th>\n",
       "      <td>Delightful</td>\n",
       "      <td>Nice camera for front and back.. The display i...</td>\n",
       "    </tr>\n",
       "  </tbody>\n",
       "</table>\n",
       "</div>"
      ],
      "text/plain": [
       "                    Review                                        Full_Review\n",
       "Ratings                                                                      \n",
       "5                Wonderful  Ok, so after almost 3 years I am again back in...\n",
       "5                Must buy!  I will just say its an awesome phone. Starting...\n",
       "5                 Terrific  Have used both iPhone X and iPhone XR and I ca...\n",
       "4        Worth every penny  Just go for it without a second thought, if yo...\n",
       "5               Delightful  Nice camera for front and back.. The display i..."
      ]
     },
     "execution_count": 168,
     "metadata": {},
     "output_type": "execute_result"
    }
   ],
   "source": [
    "final = pd.concat([df,df1,df2,df3,df4,df5,df6,df7,df8,df9],axis=0)\n",
    "final.set_index('Ratings').tail()"
   ]
  },
  {
   "cell_type": "markdown",
   "id": "9a9e5860",
   "metadata": {},
   "source": [
    "# Question 6\n",
    "Scrape data for first 100 sneakers you find when you visit flipkart.com and search for “sneakers” in the search field. You have to scrape 4 attributes of each sneaker:\n",
    "\n",
    "1.Brand\n",
    "2.Product Description\n",
    "3.Price"
   ]
  },
  {
   "cell_type": "code",
   "execution_count": 169,
   "id": "fbc65bf9",
   "metadata": {},
   "outputs": [],
   "source": [
    "driver=webdriver.Chrome(r\"C:/Users/91897/Downloads/chromedriver_win32/chromedriver.exe\")"
   ]
  },
  {
   "cell_type": "code",
   "execution_count": 170,
   "id": "d8a0bf8c",
   "metadata": {},
   "outputs": [],
   "source": [
    "driver.get(\"https://flipkart.com/\")"
   ]
  },
  {
   "cell_type": "code",
   "execution_count": 171,
   "id": "a8891247",
   "metadata": {},
   "outputs": [],
   "source": [
    "search = driver.find_element_by_xpath(\"//div[@class='_3OO5Xc']/input\")\n",
    "search.send_keys('sneakers')"
   ]
  },
  {
   "cell_type": "code",
   "execution_count": 172,
   "id": "5a008b07",
   "metadata": {},
   "outputs": [],
   "source": [
    "btn=driver.find_element_by_xpath(\"//button[@class='L0Z3Pu']\")\n",
    "btn.click()"
   ]
  },
  {
   "cell_type": "code",
   "execution_count": 173,
   "id": "fc2a6cbc",
   "metadata": {},
   "outputs": [],
   "source": [
    "brand=[]\n",
    "product_description=[]\n",
    "price=[]"
   ]
  },
  {
   "cell_type": "code",
   "execution_count": 174,
   "id": "c1730a2b",
   "metadata": {},
   "outputs": [],
   "source": [
    "b=driver.find_elements_by_xpath(\"//div[@class='_2WkVRV']\")\n",
    "p=driver.find_elements_by_xpath(\"//a[@class='IRpwTa']\")\n",
    "pr=driver.find_elements_by_xpath(\"//div[@class='_30jeq3']\")"
   ]
  },
  {
   "cell_type": "code",
   "execution_count": 175,
   "id": "2ffd82b4",
   "metadata": {},
   "outputs": [],
   "source": [
    "for i in b:\n",
    "    br=i.text\n",
    "    brand.append(br)\n",
    "\n",
    "for i in p:\n",
    "    pd=i.text\n",
    "    product_description.append(pd)\n",
    "\n",
    "for i in pr:\n",
    "    p=i.text\n",
    "    price.append(p)"
   ]
  },
  {
   "cell_type": "code",
   "execution_count": 176,
   "id": "09c77b81",
   "metadata": {},
   "outputs": [],
   "source": [
    "data = list(zip(brand,product_description,price))"
   ]
  },
  {
   "cell_type": "code",
   "execution_count": 177,
   "id": "3818d354",
   "metadata": {},
   "outputs": [],
   "source": [
    "import pandas as pd"
   ]
  },
  {
   "cell_type": "code",
   "execution_count": 178,
   "id": "56dc7adf",
   "metadata": {},
   "outputs": [],
   "source": [
    "df=pd.DataFrame(data,columns=['Brands','Descriptions','Price'])"
   ]
  },
  {
   "cell_type": "code",
   "execution_count": 179,
   "id": "9afa7a02",
   "metadata": {},
   "outputs": [],
   "source": [
    "two=driver.find_element_by_xpath(\"//nav[@class='yFHi8N']/a[3]\").click()"
   ]
  },
  {
   "cell_type": "code",
   "execution_count": 187,
   "id": "5464e8c8",
   "metadata": {},
   "outputs": [],
   "source": [
    "brand1=[]\n",
    "product_description1=[]\n",
    "price1=[]"
   ]
  },
  {
   "cell_type": "code",
   "execution_count": 183,
   "id": "17765b63",
   "metadata": {},
   "outputs": [],
   "source": [
    "b1=driver.find_elements_by_xpath(\"//div[@class='_2WkVRV']\")\n",
    "p1=driver.find_elements_by_xpath(\"//a[@class='IRpwTa']\")\n",
    "pr1=driver.find_elements_by_xpath(\"//div[@class='_30jeq3']\")"
   ]
  },
  {
   "cell_type": "code",
   "execution_count": 188,
   "id": "890a8a72",
   "metadata": {},
   "outputs": [],
   "source": [
    "for i in b1:\n",
    "    br=i.text\n",
    "    brand1.append(br)\n",
    "\n",
    "for i in p1:\n",
    "    pd=i.text\n",
    "    product_description1.append(pd)\n",
    "\n",
    "for i in pr1:\n",
    "    p=i.text\n",
    "    price1.append(p)"
   ]
  },
  {
   "cell_type": "code",
   "execution_count": 189,
   "id": "b879beae",
   "metadata": {},
   "outputs": [],
   "source": [
    "data1 = list(zip(brand1,product_description1,price1))"
   ]
  },
  {
   "cell_type": "code",
   "execution_count": 190,
   "id": "ac3391ca",
   "metadata": {},
   "outputs": [],
   "source": [
    "import pandas as pd"
   ]
  },
  {
   "cell_type": "code",
   "execution_count": 191,
   "id": "175ccd78",
   "metadata": {},
   "outputs": [],
   "source": [
    "df1=pd.DataFrame(data1,columns=['Brands','Descriptions','Price'])"
   ]
  },
  {
   "cell_type": "code",
   "execution_count": 192,
   "id": "e8e8ab88",
   "metadata": {},
   "outputs": [],
   "source": [
    "three=driver.find_element_by_xpath(\"//nav[@class='yFHi8N']/a[4]\").click()\n",
    "brand2=[]\n",
    "product_description2=[]\n",
    "price2=[]"
   ]
  },
  {
   "cell_type": "code",
   "execution_count": 193,
   "id": "0d598e24",
   "metadata": {},
   "outputs": [],
   "source": [
    "b2=driver.find_elements_by_xpath(\"//div[@class='_2WkVRV']\")\n",
    "p2=driver.find_elements_by_xpath(\"//a[@class='IRpwTa']\")\n",
    "pr2=driver.find_elements_by_xpath(\"//div[@class='_30jeq3']\")"
   ]
  },
  {
   "cell_type": "code",
   "execution_count": 195,
   "id": "545e4d04",
   "metadata": {},
   "outputs": [],
   "source": [
    "for i in b2:\n",
    "    br=i.text\n",
    "    brand2.append(br)\n",
    "\n",
    "for i in p2:\n",
    "    pd=i.text\n",
    "    product_description2.append(pd)\n",
    "\n",
    "for i in pr2:\n",
    "    p=i.text\n",
    "    price2.append(p"
   ]
  },
  {
   "cell_type": "code",
   "execution_count": 196,
   "id": "f41d366b",
   "metadata": {},
   "outputs": [],
   "source": [
    "data2 = list(zip(brand2,product_description2,price2))"
   ]
  },
  {
   "cell_type": "code",
   "execution_count": 197,
   "id": "ae3dcfbe",
   "metadata": {},
   "outputs": [],
   "source": [
    "import pandas as pd\n",
    "df2=pd.DataFrame(data2,columns=['Brands','Descriptions','Price'])"
   ]
  },
  {
   "cell_type": "code",
   "execution_count": 198,
   "id": "c83899c1",
   "metadata": {},
   "outputs": [],
   "source": [
    "four=driver.find_element_by_xpath(\"//nav[@class='yFHi8N']/a[5]\").click()\n",
    "brand3=[]\n",
    "product_description3=[]\n",
    "price3=[]"
   ]
  },
  {
   "cell_type": "code",
   "execution_count": 199,
   "id": "cc33993c",
   "metadata": {},
   "outputs": [],
   "source": [
    "b3=driver.find_elements_by_xpath(\"//div[@class='_2WkVRV']\")\n",
    "p3=driver.find_elements_by_xpath(\"//a[@class='IRpwTa']\")\n",
    "pr3=driver.find_elements_by_xpath(\"//div[@class='_30jeq3']\")\n",
    "\n",
    "for i in b3:\n",
    "    br=i.text\n",
    "    brand3.append(br)\n",
    "\n",
    "for i in p3:\n",
    "    pd=i.text\n",
    "    product_description3.append(pd)\n",
    "\n",
    "for i in pr3:\n",
    "    p=i.text\n",
    "    price3.append(p)"
   ]
  },
  {
   "cell_type": "code",
   "execution_count": 200,
   "id": "063271d5",
   "metadata": {},
   "outputs": [],
   "source": [
    "data3 = list(zip(brand3,product_description3,price3))\n",
    "import pandas as pd\n",
    "df3=pd.DataFrame(data3,columns=['Brands','Descriptions','Price'])"
   ]
  },
  {
   "cell_type": "code",
   "execution_count": 201,
   "id": "5b0616b9",
   "metadata": {},
   "outputs": [
    {
     "data": {
      "text/html": [
       "<div>\n",
       "<style scoped>\n",
       "    .dataframe tbody tr th:only-of-type {\n",
       "        vertical-align: middle;\n",
       "    }\n",
       "\n",
       "    .dataframe tbody tr th {\n",
       "        vertical-align: top;\n",
       "    }\n",
       "\n",
       "    .dataframe thead th {\n",
       "        text-align: right;\n",
       "    }\n",
       "</style>\n",
       "<table border=\"1\" class=\"dataframe\">\n",
       "  <thead>\n",
       "    <tr style=\"text-align: right;\">\n",
       "      <th></th>\n",
       "      <th>Brands</th>\n",
       "      <th>Descriptions</th>\n",
       "      <th>Price</th>\n",
       "    </tr>\n",
       "  </thead>\n",
       "  <tbody>\n",
       "    <tr>\n",
       "      <th>0</th>\n",
       "      <td>luxury fashion</td>\n",
       "      <td>Luxury Fashionable casual shoes Sneakers For Men</td>\n",
       "      <td>₹449</td>\n",
       "    </tr>\n",
       "    <tr>\n",
       "      <th>1</th>\n",
       "      <td>ASTEROID</td>\n",
       "      <td>Original Luxury Branded Fashionable Men's Casu...</td>\n",
       "      <td>₹474</td>\n",
       "    </tr>\n",
       "    <tr>\n",
       "      <th>2</th>\n",
       "      <td>BRUTON</td>\n",
       "      <td>Modern Trendy Sneakers Shoes Sneakers For Men</td>\n",
       "      <td>₹299</td>\n",
       "    </tr>\n",
       "    <tr>\n",
       "      <th>3</th>\n",
       "      <td>URBANBOX</td>\n",
       "      <td>Sports Running Shoes Sneakers For Men</td>\n",
       "      <td>₹247</td>\n",
       "    </tr>\n",
       "    <tr>\n",
       "      <th>4</th>\n",
       "      <td>BIRDE</td>\n",
       "      <td>Luxury Branded Fashionable Men's Casual Walkin...</td>\n",
       "      <td>₹299</td>\n",
       "    </tr>\n",
       "    <tr>\n",
       "      <th>...</th>\n",
       "      <td>...</td>\n",
       "      <td>...</td>\n",
       "      <td>...</td>\n",
       "    </tr>\n",
       "    <tr>\n",
       "      <th>25</th>\n",
       "      <td>tigonis</td>\n",
       "      <td>201 Sneakers For Men</td>\n",
       "      <td>₹429</td>\n",
       "    </tr>\n",
       "    <tr>\n",
       "      <th>26</th>\n",
       "      <td>Chevit</td>\n",
       "      <td>Casual Shoes Slip On Sneakers For Men Sneakers...</td>\n",
       "      <td>₹339</td>\n",
       "    </tr>\n",
       "    <tr>\n",
       "      <th>27</th>\n",
       "      <td>PUMA</td>\n",
       "      <td>PUMA X 1DER KL RAHUL Sneakers For Men</td>\n",
       "      <td>₹7,199</td>\n",
       "    </tr>\n",
       "    <tr>\n",
       "      <th>28</th>\n",
       "      <td>Stefano Rads</td>\n",
       "      <td>Sneakers For Men</td>\n",
       "      <td>₹242</td>\n",
       "    </tr>\n",
       "    <tr>\n",
       "      <th>29</th>\n",
       "      <td>Zixer</td>\n",
       "      <td>Rebound Future Evo Sneakers For Men</td>\n",
       "      <td>₹631</td>\n",
       "    </tr>\n",
       "  </tbody>\n",
       "</table>\n",
       "<p>120 rows × 3 columns</p>\n",
       "</div>"
      ],
      "text/plain": [
       "            Brands                                       Descriptions   Price\n",
       "0   luxury fashion   Luxury Fashionable casual shoes Sneakers For Men    ₹449\n",
       "1         ASTEROID  Original Luxury Branded Fashionable Men's Casu...    ₹474\n",
       "2           BRUTON      Modern Trendy Sneakers Shoes Sneakers For Men    ₹299\n",
       "3         URBANBOX              Sports Running Shoes Sneakers For Men    ₹247\n",
       "4            BIRDE  Luxury Branded Fashionable Men's Casual Walkin...    ₹299\n",
       "..             ...                                                ...     ...\n",
       "25         tigonis                               201 Sneakers For Men    ₹429\n",
       "26          Chevit  Casual Shoes Slip On Sneakers For Men Sneakers...    ₹339\n",
       "27            PUMA              PUMA X 1DER KL RAHUL Sneakers For Men  ₹7,199\n",
       "28    Stefano Rads                                   Sneakers For Men    ₹242\n",
       "29           Zixer                Rebound Future Evo Sneakers For Men    ₹631\n",
       "\n",
       "[120 rows x 3 columns]"
      ]
     },
     "execution_count": 201,
     "metadata": {},
     "output_type": "execute_result"
    }
   ],
   "source": [
    "import pandas as pd\n",
    "Sneakers=pd.concat([df,df1,df2,df3],axis=0)\n",
    "Sneakers"
   ]
  },
  {
   "cell_type": "markdown",
   "id": "8fb5500e",
   "metadata": {},
   "source": [
    "# Question 7\n",
    "Go to the link - https://www.myntra.com/shoes Set Price filter to “Rs. 6649 to Rs. 13099” , Color filter to “Black”, as shown in the below image. And then scrape First 100 shoes data you get. The data should include “Brand” of the shoes , Short Shoe description, price of the shoe"
   ]
  },
  {
   "cell_type": "code",
   "execution_count": 202,
   "id": "167ef48b",
   "metadata": {},
   "outputs": [],
   "source": [
    "driver=webdriver.Chrome(r\"C:/Users/91897/Downloads/chromedriver_win32/chromedriver.exe\")"
   ]
  },
  {
   "cell_type": "code",
   "execution_count": 203,
   "id": "b0c7cd86",
   "metadata": {},
   "outputs": [],
   "source": [
    "driver.get(\"https://www.myntra.com/shoes/\")"
   ]
  },
  {
   "cell_type": "code",
   "execution_count": 204,
   "id": "c6afb3a2",
   "metadata": {},
   "outputs": [],
   "source": [
    "filters=driver.find_element_by_xpath(\"//label[@class='common-customCheckbox vertical-filters-label']\")\n",
    "filters.click()  # applying filter to the 'casual shoes' filter as the price range asked in the question is in this section."
   ]
  },
  {
   "cell_type": "code",
   "execution_count": 205,
   "id": "2ed6a6f4",
   "metadata": {},
   "outputs": [],
   "source": [
    "filters=driver.find_element_by_xpath(\"//li[@class='colour-listItem']/label\")\n",
    "filters.click() #applying filter to the color 'black'."
   ]
  },
  {
   "cell_type": "code",
   "execution_count": 206,
   "id": "485fb1f9",
   "metadata": {},
   "outputs": [],
   "source": [
    "filters=driver.find_element_by_xpath(\"//ul[@class='price-list']/li[2]/label\")\n",
    "filters.click() #applying filter to the price range between '6649 to Rs. 13099'"
   ]
  },
  {
   "cell_type": "code",
   "execution_count": 207,
   "id": "5babe3e5",
   "metadata": {},
   "outputs": [],
   "source": [
    "brand=[]\n",
    "description=[]\n",
    "price=[]"
   ]
  },
  {
   "cell_type": "code",
   "execution_count": 208,
   "id": "8b243bf1",
   "metadata": {},
   "outputs": [],
   "source": [
    "br=driver.find_elements_by_xpath(\"//h3[@class='product-brand']\")\n",
    "des=driver.find_elements_by_xpath(\"//h4[@class='product-product']\")\n",
    "pr=driver.find_elements_by_xpath(\"//div[@class='product-price']/span\")\n",
    "\n",
    "for i in br:\n",
    "    name=i.text\n",
    "    brand.append(name)\n",
    "\n",
    "for i in des:\n",
    "    ds=i.text\n",
    "    description.append(ds)\n",
    "    \n",
    "for i in pr:\n",
    "    p=i.text\n",
    "    price.append(p)"
   ]
  },
  {
   "cell_type": "code",
   "execution_count": 209,
   "id": "e83925e9",
   "metadata": {},
   "outputs": [],
   "source": [
    "data=list(zip(brand,description,price))\n",
    "df=pd.DataFrame(data,columns=['Brands','Description','Price'])"
   ]
  },
  {
   "cell_type": "code",
   "execution_count": 211,
   "id": "dab999c4",
   "metadata": {},
   "outputs": [],
   "source": [
    "next=driver.find_element_by_xpath(\"//li[@class='pagination-number']\")\n",
    "next.click()"
   ]
  },
  {
   "cell_type": "code",
   "execution_count": 212,
   "id": "83bccdaa",
   "metadata": {},
   "outputs": [],
   "source": [
    "brand1=[]\n",
    "description1=[]\n",
    "price1=[]\n",
    "\n",
    "br1=driver.find_elements_by_xpath(\"//h3[@class='product-brand']\")\n",
    "des1=driver.find_elements_by_xpath(\"//h4[@class='product-product']\")\n",
    "pr1=driver.find_elements_by_xpath(\"//div[@class='product-price']/span\")\n",
    "\n",
    "for i in br1:\n",
    "    name=i.text\n",
    "    brand1.append(name)\n",
    "\n",
    "for i in des1:\n",
    "    ds=i.text\n",
    "    description1.append(ds)\n",
    "    \n",
    "for i in pr1:\n",
    "    p=i.text\n",
    "    price1.append(p)"
   ]
  },
  {
   "cell_type": "code",
   "execution_count": 213,
   "id": "3f4fa5e8",
   "metadata": {},
   "outputs": [
    {
     "data": {
      "text/html": [
       "<div>\n",
       "<style scoped>\n",
       "    .dataframe tbody tr th:only-of-type {\n",
       "        vertical-align: middle;\n",
       "    }\n",
       "\n",
       "    .dataframe tbody tr th {\n",
       "        vertical-align: top;\n",
       "    }\n",
       "\n",
       "    .dataframe thead th {\n",
       "        text-align: right;\n",
       "    }\n",
       "</style>\n",
       "<table border=\"1\" class=\"dataframe\">\n",
       "  <thead>\n",
       "    <tr style=\"text-align: right;\">\n",
       "      <th></th>\n",
       "      <th>Brands</th>\n",
       "      <th>Description</th>\n",
       "      <th>Price</th>\n",
       "    </tr>\n",
       "  </thead>\n",
       "  <tbody>\n",
       "    <tr>\n",
       "      <th>0</th>\n",
       "      <td>ALDO</td>\n",
       "      <td>Men Textured Sneakers</td>\n",
       "      <td>Rs. 6999Rs. 9999</td>\n",
       "    </tr>\n",
       "    <tr>\n",
       "      <th>1</th>\n",
       "      <td>Nike</td>\n",
       "      <td>Men Waffle One SE Sneakers</td>\n",
       "      <td>(30% OFF)</td>\n",
       "    </tr>\n",
       "    <tr>\n",
       "      <th>2</th>\n",
       "      <td>Hush Puppies</td>\n",
       "      <td>Men Leather Slip-On Sneakers</td>\n",
       "      <td>Rs. 8295</td>\n",
       "    </tr>\n",
       "    <tr>\n",
       "      <th>3</th>\n",
       "      <td>Saint G</td>\n",
       "      <td>Men Mid-Top Chelsea Boots</td>\n",
       "      <td>Rs. 6299Rs. 6999</td>\n",
       "    </tr>\n",
       "    <tr>\n",
       "      <th>4</th>\n",
       "      <td>Heel &amp; Buckle London</td>\n",
       "      <td>Men Leather Loafers</td>\n",
       "      <td>(10% OFF)</td>\n",
       "    </tr>\n",
       "    <tr>\n",
       "      <th>...</th>\n",
       "      <td>...</td>\n",
       "      <td>...</td>\n",
       "      <td>...</td>\n",
       "    </tr>\n",
       "    <tr>\n",
       "      <th>45</th>\n",
       "      <td>fitflop</td>\n",
       "      <td>Women Leather Sneakers</td>\n",
       "      <td>Rs. 8490</td>\n",
       "    </tr>\n",
       "    <tr>\n",
       "      <th>46</th>\n",
       "      <td>Cole Haan</td>\n",
       "      <td>Women Leather Sneakers</td>\n",
       "      <td>Rs. 8999Rs. 9999</td>\n",
       "    </tr>\n",
       "    <tr>\n",
       "      <th>47</th>\n",
       "      <td>Skechers</td>\n",
       "      <td>Women UNO 2-MAD AIR Sneakers</td>\n",
       "      <td>(10% OFF)</td>\n",
       "    </tr>\n",
       "    <tr>\n",
       "      <th>48</th>\n",
       "      <td>Skechers</td>\n",
       "      <td>Women D'Lux Walker Sneakers</td>\n",
       "      <td>Rs. 7499</td>\n",
       "    </tr>\n",
       "    <tr>\n",
       "      <th>49</th>\n",
       "      <td>Skechers</td>\n",
       "      <td>Women Extreme 2.0- Timeless</td>\n",
       "      <td>Rs. 5999</td>\n",
       "    </tr>\n",
       "  </tbody>\n",
       "</table>\n",
       "<p>100 rows × 3 columns</p>\n",
       "</div>"
      ],
      "text/plain": [
       "                  Brands                   Description             Price\n",
       "0                   ALDO         Men Textured Sneakers  Rs. 6999Rs. 9999\n",
       "1                   Nike    Men Waffle One SE Sneakers         (30% OFF)\n",
       "2           Hush Puppies  Men Leather Slip-On Sneakers          Rs. 8295\n",
       "3                Saint G     Men Mid-Top Chelsea Boots  Rs. 6299Rs. 6999\n",
       "4   Heel & Buckle London           Men Leather Loafers         (10% OFF)\n",
       "..                   ...                           ...               ...\n",
       "45               fitflop        Women Leather Sneakers          Rs. 8490\n",
       "46             Cole Haan        Women Leather Sneakers  Rs. 8999Rs. 9999\n",
       "47              Skechers  Women UNO 2-MAD AIR Sneakers         (10% OFF)\n",
       "48              Skechers   Women D'Lux Walker Sneakers          Rs. 7499\n",
       "49              Skechers   Women Extreme 2.0- Timeless          Rs. 5999\n",
       "\n",
       "[100 rows x 3 columns]"
      ]
     },
     "execution_count": 213,
     "metadata": {},
     "output_type": "execute_result"
    }
   ],
   "source": [
    "data1 = list(zip(brand1,description1,price1))\n",
    "df1=pd.DataFrame(data1,columns=['Brands','Description','Price'])\n",
    "df1.inplace=True\n",
    "final=pd.concat([df,df1],axis=0)\n",
    "final"
   ]
  },
  {
   "cell_type": "markdown",
   "id": "e4f0370e",
   "metadata": {},
   "source": [
    "# Question 3\n",
    "In this question you have to scrape data using the filters available on the webpage You have to use the location and salary filter. You have to scrape data for “Data Scientist” designation for first 10 job results. You have to scrape the job-title, job-location, company name, experience required. The location filter to be used is “Delhi/NCR” The salary filter to be used is “3-6” lakhs. \n",
    "The task will be done as shown in the below steps:\n",
    "1.first get the webpage https://www.naukri.com/ \n",
    "2.Enter “Data Scientist” in “Skill, Designations, and Companies” field. \n",
    "3.Then click the search button. \n",
    "4.Then apply the location filter and salary filter by checking the respective boxes \n",
    "5.Then scrape the data for the first 10 jobs results you get.\n",
    "6.Finally create a dataframe of the scraped data."
   ]
  },
  {
   "cell_type": "code",
   "execution_count": 318,
   "id": "2d641731",
   "metadata": {},
   "outputs": [],
   "source": [
    "driver=webdriver.Chrome(r\"C:/Users/91897/Downloads/chromedriver_win32/chromedriver.exe\")"
   ]
  },
  {
   "cell_type": "code",
   "execution_count": 319,
   "id": "2ce08197",
   "metadata": {},
   "outputs": [],
   "source": [
    "url=\"https://www.naukri.com/\"\n",
    "driver.get(url)"
   ]
  },
  {
   "cell_type": "code",
   "execution_count": 320,
   "id": "ea15ad14",
   "metadata": {},
   "outputs": [
    {
     "data": {
      "text/plain": [
       "<selenium.webdriver.remote.webelement.WebElement (session=\"3953004b9296b248ae855975c2e32de8\", element=\"79995f17-d60c-40b2-8c16-9afff9e85e0c\")>"
      ]
     },
     "execution_count": 320,
     "metadata": {},
     "output_type": "execute_result"
    }
   ],
   "source": [
    "search_job=driver.find_element_by_id(\"qsb-keyword-sugg\")\n",
    "search_job"
   ]
  },
  {
   "cell_type": "code",
   "execution_count": 321,
   "id": "c429940a",
   "metadata": {},
   "outputs": [],
   "source": [
    "search_job.send_keys(\"Data Scientist\")"
   ]
  },
  {
   "cell_type": "code",
   "execution_count": 322,
   "id": "94793f9f",
   "metadata": {},
   "outputs": [],
   "source": [
    "sr_btn1=driver.find_element_by_xpath(\"//button[@class='btn']\")\n",
    "sr_btn1.click()"
   ]
  },
  {
   "cell_type": "code",
   "execution_count": 325,
   "id": "0d155e51",
   "metadata": {},
   "outputs": [],
   "source": [
    "driver.find_element_by_xpath(\"//span[@title='Delhi / NCR']\").click()"
   ]
  },
  {
   "cell_type": "code",
   "execution_count": 326,
   "id": "a4528a0c",
   "metadata": {},
   "outputs": [],
   "source": [
    "driver.find_element_by_xpath(\"//span[@title='3-6 Lakhs']\").click()"
   ]
  },
  {
   "cell_type": "code",
   "execution_count": 327,
   "id": "05d00062",
   "metadata": {},
   "outputs": [
    {
     "data": {
      "text/plain": [
       "[<selenium.webdriver.remote.webelement.WebElement (session=\"3953004b9296b248ae855975c2e32de8\", element=\"eae426fe-a2cd-42df-8593-6cffb79b31f0\")>,\n",
       " <selenium.webdriver.remote.webelement.WebElement (session=\"3953004b9296b248ae855975c2e32de8\", element=\"d69b1422-570e-44ee-9f02-5abff05e3035\")>,\n",
       " <selenium.webdriver.remote.webelement.WebElement (session=\"3953004b9296b248ae855975c2e32de8\", element=\"34fe8d5c-d5cd-4784-95ea-1aefe430a757\")>,\n",
       " <selenium.webdriver.remote.webelement.WebElement (session=\"3953004b9296b248ae855975c2e32de8\", element=\"308d0f97-94eb-4bec-9d46-6094a235dcc2\")>,\n",
       " <selenium.webdriver.remote.webelement.WebElement (session=\"3953004b9296b248ae855975c2e32de8\", element=\"ee4d5a3b-f699-4335-8f04-74b3d99f335b\")>,\n",
       " <selenium.webdriver.remote.webelement.WebElement (session=\"3953004b9296b248ae855975c2e32de8\", element=\"6b4e369d-0a23-4af5-a021-653a14411cb8\")>,\n",
       " <selenium.webdriver.remote.webelement.WebElement (session=\"3953004b9296b248ae855975c2e32de8\", element=\"54c4bdd2-4d88-42f1-b9dc-3f42da3d55f0\")>,\n",
       " <selenium.webdriver.remote.webelement.WebElement (session=\"3953004b9296b248ae855975c2e32de8\", element=\"991bcef9-7e9d-4e01-a35e-6e51b9ada073\")>,\n",
       " <selenium.webdriver.remote.webelement.WebElement (session=\"3953004b9296b248ae855975c2e32de8\", element=\"26215adf-d8ea-4913-a8da-9f3e9f8efa1f\")>,\n",
       " <selenium.webdriver.remote.webelement.WebElement (session=\"3953004b9296b248ae855975c2e32de8\", element=\"88bd481b-2f3f-4883-bc1d-0f237b6c91ae\")>,\n",
       " <selenium.webdriver.remote.webelement.WebElement (session=\"3953004b9296b248ae855975c2e32de8\", element=\"a0156caf-9e83-4e5a-88e5-07c1acf6dd06\")>,\n",
       " <selenium.webdriver.remote.webelement.WebElement (session=\"3953004b9296b248ae855975c2e32de8\", element=\"945235ee-1ed3-4c54-8aef-4a645b788217\")>,\n",
       " <selenium.webdriver.remote.webelement.WebElement (session=\"3953004b9296b248ae855975c2e32de8\", element=\"79b819df-2592-4bce-80d3-14643dbb6f4e\")>,\n",
       " <selenium.webdriver.remote.webelement.WebElement (session=\"3953004b9296b248ae855975c2e32de8\", element=\"5e780265-61ec-4c1f-a9e1-ac5787678bd0\")>,\n",
       " <selenium.webdriver.remote.webelement.WebElement (session=\"3953004b9296b248ae855975c2e32de8\", element=\"8fc39215-71a8-4c91-8794-175b7f99c1a8\")>,\n",
       " <selenium.webdriver.remote.webelement.WebElement (session=\"3953004b9296b248ae855975c2e32de8\", element=\"6a6ed516-ec30-4af3-aa74-a9b6ed8c8fe2\")>,\n",
       " <selenium.webdriver.remote.webelement.WebElement (session=\"3953004b9296b248ae855975c2e32de8\", element=\"698d1cc6-2676-4693-a73e-585078d4df9e\")>,\n",
       " <selenium.webdriver.remote.webelement.WebElement (session=\"3953004b9296b248ae855975c2e32de8\", element=\"3eb80d8b-32be-4efd-99ca-18131ffcc66d\")>,\n",
       " <selenium.webdriver.remote.webelement.WebElement (session=\"3953004b9296b248ae855975c2e32de8\", element=\"6dcda683-30cc-41dd-adaf-c5d4c6ebf257\")>,\n",
       " <selenium.webdriver.remote.webelement.WebElement (session=\"3953004b9296b248ae855975c2e32de8\", element=\"a7a174c6-51a3-42b1-801d-3278ab973038\")>]"
      ]
     },
     "execution_count": 327,
     "metadata": {},
     "output_type": "execute_result"
    }
   ],
   "source": [
    "job_t=driver.find_elements_by_xpath(\"//a[@class='title fw500 ellipsis']\")\n",
    "job_t"
   ]
  },
  {
   "cell_type": "code",
   "execution_count": 328,
   "id": "b1bdb922",
   "metadata": {},
   "outputs": [
    {
     "data": {
      "text/plain": [
       "['Data Scientist',\n",
       " 'Data Scientist',\n",
       " 'Hiring For Data Scientist',\n",
       " 'Data Scientist/ Senior Data Scientist',\n",
       " 'Project Manager | Team Leader | Senior Data Scientist',\n",
       " 'Data Scientist',\n",
       " 'Job Opportunity || Data Scientist || HCL Technologies',\n",
       " 'Data Analyst / Data Scientist / Business Analytics / Fresher - MNC',\n",
       " 'Data Scientist',\n",
       " 'Senior Data Scientist']"
      ]
     },
     "execution_count": 328,
     "metadata": {},
     "output_type": "execute_result"
    }
   ],
   "source": [
    "job_title=[]\n",
    "for i in job_t[:10]:\n",
    "    job_title.append(i.text)\n",
    "job_title\n"
   ]
  },
  {
   "cell_type": "code",
   "execution_count": 329,
   "id": "00012176",
   "metadata": {},
   "outputs": [
    {
     "data": {
      "text/plain": [
       "[<selenium.webdriver.remote.webelement.WebElement (session=\"3953004b9296b248ae855975c2e32de8\", element=\"6884ea58-52f5-4462-b722-cf89b5a5b075\")>,\n",
       " <selenium.webdriver.remote.webelement.WebElement (session=\"3953004b9296b248ae855975c2e32de8\", element=\"917cd06e-eeb2-4043-af47-d1cdec4006da\")>,\n",
       " <selenium.webdriver.remote.webelement.WebElement (session=\"3953004b9296b248ae855975c2e32de8\", element=\"c7f09ddc-8d89-435d-9a42-6d60ea13585d\")>,\n",
       " <selenium.webdriver.remote.webelement.WebElement (session=\"3953004b9296b248ae855975c2e32de8\", element=\"dc76095e-b9d4-4263-b02f-211ed6803335\")>,\n",
       " <selenium.webdriver.remote.webelement.WebElement (session=\"3953004b9296b248ae855975c2e32de8\", element=\"afab6d76-80af-4f66-97f9-b51163e6349c\")>,\n",
       " <selenium.webdriver.remote.webelement.WebElement (session=\"3953004b9296b248ae855975c2e32de8\", element=\"0402759c-cece-4e06-8c40-769db4ad731e\")>,\n",
       " <selenium.webdriver.remote.webelement.WebElement (session=\"3953004b9296b248ae855975c2e32de8\", element=\"ec33f14b-9d31-4da0-8186-5295a045e4e6\")>,\n",
       " <selenium.webdriver.remote.webelement.WebElement (session=\"3953004b9296b248ae855975c2e32de8\", element=\"9309755e-b895-49a7-a23a-fec9ac427f9f\")>,\n",
       " <selenium.webdriver.remote.webelement.WebElement (session=\"3953004b9296b248ae855975c2e32de8\", element=\"179bef42-046b-4af4-b547-c580e506343f\")>,\n",
       " <selenium.webdriver.remote.webelement.WebElement (session=\"3953004b9296b248ae855975c2e32de8\", element=\"29ce3ee0-2673-4487-bd5a-86c7b4517a29\")>,\n",
       " <selenium.webdriver.remote.webelement.WebElement (session=\"3953004b9296b248ae855975c2e32de8\", element=\"9b1264d9-0b8c-4ee3-9593-c8b6819d9d35\")>,\n",
       " <selenium.webdriver.remote.webelement.WebElement (session=\"3953004b9296b248ae855975c2e32de8\", element=\"51a2976b-72cd-4adb-8480-fc5a1ff52300\")>,\n",
       " <selenium.webdriver.remote.webelement.WebElement (session=\"3953004b9296b248ae855975c2e32de8\", element=\"32971393-d200-4e7f-ae86-19b345f758e7\")>,\n",
       " <selenium.webdriver.remote.webelement.WebElement (session=\"3953004b9296b248ae855975c2e32de8\", element=\"5dda5713-6ade-4895-ad1b-16ed912cd123\")>,\n",
       " <selenium.webdriver.remote.webelement.WebElement (session=\"3953004b9296b248ae855975c2e32de8\", element=\"1a56295f-15dc-49ea-a383-debd88309ae3\")>,\n",
       " <selenium.webdriver.remote.webelement.WebElement (session=\"3953004b9296b248ae855975c2e32de8\", element=\"776ab41e-a7a9-46d8-b01d-13dfaeb88d52\")>,\n",
       " <selenium.webdriver.remote.webelement.WebElement (session=\"3953004b9296b248ae855975c2e32de8\", element=\"aa92d580-7fe1-48f1-8a32-9ae641fafd27\")>,\n",
       " <selenium.webdriver.remote.webelement.WebElement (session=\"3953004b9296b248ae855975c2e32de8\", element=\"775a1201-d6bf-468c-857a-977fa917ba8b\")>,\n",
       " <selenium.webdriver.remote.webelement.WebElement (session=\"3953004b9296b248ae855975c2e32de8\", element=\"89dde23a-a84f-4e84-85cb-9d5b09ed4ceb\")>,\n",
       " <selenium.webdriver.remote.webelement.WebElement (session=\"3953004b9296b248ae855975c2e32de8\", element=\"09f86276-ff5d-4a1c-a9c5-092be88f41f5\")>]"
      ]
     },
     "execution_count": 329,
     "metadata": {},
     "output_type": "execute_result"
    }
   ],
   "source": [
    "cname=driver.find_elements_by_xpath(\"//a[@class='subTitle ellipsis fleft']\")\n",
    "cname"
   ]
  },
  {
   "cell_type": "code",
   "execution_count": 330,
   "id": "952fc746",
   "metadata": {},
   "outputs": [
    {
     "data": {
      "text/plain": [
       "['LG Electronics India Pvt. Ltd.',\n",
       " 'Navikenz India Pvt Ltd',\n",
       " 'Tata Consultancy Services Ltd.',\n",
       " 'Newgen Software Technologies',\n",
       " 'Tidyquant (OPC) Private Limited',\n",
       " 'Teleperformance',\n",
       " 'HCL Technologies',\n",
       " 'GABA Consultancy services',\n",
       " 'The Boston Consulting Group (India) Pvt Limited',\n",
       " 'iNICU']"
      ]
     },
     "execution_count": 330,
     "metadata": {},
     "output_type": "execute_result"
    }
   ],
   "source": [
    "comp_n1=[]\n",
    "for i in cname[:10]:\n",
    "    comp_n1.append(i.text)\n",
    "comp_n1"
   ]
  },
  {
   "cell_type": "code",
   "execution_count": 331,
   "id": "a974f551",
   "metadata": {},
   "outputs": [
    {
     "data": {
      "text/plain": [
       "[<selenium.webdriver.remote.webelement.WebElement (session=\"3953004b9296b248ae855975c2e32de8\", element=\"650d97cd-fa05-4918-82f4-b9e2f44f0baa\")>,\n",
       " <selenium.webdriver.remote.webelement.WebElement (session=\"3953004b9296b248ae855975c2e32de8\", element=\"e9d8f8e6-c504-40db-90bd-ce757ac6410c\")>,\n",
       " <selenium.webdriver.remote.webelement.WebElement (session=\"3953004b9296b248ae855975c2e32de8\", element=\"65bbe9a1-ee8e-4030-b342-bada476b2c93\")>,\n",
       " <selenium.webdriver.remote.webelement.WebElement (session=\"3953004b9296b248ae855975c2e32de8\", element=\"4c65d812-7257-47b1-89de-99bf502a988b\")>,\n",
       " <selenium.webdriver.remote.webelement.WebElement (session=\"3953004b9296b248ae855975c2e32de8\", element=\"485298da-413e-4ed4-b84e-af0f1549794b\")>,\n",
       " <selenium.webdriver.remote.webelement.WebElement (session=\"3953004b9296b248ae855975c2e32de8\", element=\"05b18bd1-b3a3-4168-b5aa-310963eed9c8\")>,\n",
       " <selenium.webdriver.remote.webelement.WebElement (session=\"3953004b9296b248ae855975c2e32de8\", element=\"0b1c41a0-1fbb-4e5b-b90d-7e2d68818e8b\")>,\n",
       " <selenium.webdriver.remote.webelement.WebElement (session=\"3953004b9296b248ae855975c2e32de8\", element=\"35811b56-fc34-4057-b938-9c0b07f450d0\")>,\n",
       " <selenium.webdriver.remote.webelement.WebElement (session=\"3953004b9296b248ae855975c2e32de8\", element=\"16066649-e06e-4d1f-9c90-b53cab1ee69f\")>,\n",
       " <selenium.webdriver.remote.webelement.WebElement (session=\"3953004b9296b248ae855975c2e32de8\", element=\"ac1c1e27-2ae4-43aa-b86d-7ba671a7e2b7\")>,\n",
       " <selenium.webdriver.remote.webelement.WebElement (session=\"3953004b9296b248ae855975c2e32de8\", element=\"5b8a6a37-55f3-49ff-9bd5-8b6f7f75175c\")>,\n",
       " <selenium.webdriver.remote.webelement.WebElement (session=\"3953004b9296b248ae855975c2e32de8\", element=\"47d046c9-c4b5-4a2e-818a-a493c5809c83\")>,\n",
       " <selenium.webdriver.remote.webelement.WebElement (session=\"3953004b9296b248ae855975c2e32de8\", element=\"690c8778-ae66-4063-97d2-3b8dffced361\")>,\n",
       " <selenium.webdriver.remote.webelement.WebElement (session=\"3953004b9296b248ae855975c2e32de8\", element=\"09c49fd3-4222-437c-912e-24d5cbab6aaa\")>,\n",
       " <selenium.webdriver.remote.webelement.WebElement (session=\"3953004b9296b248ae855975c2e32de8\", element=\"36b3ea32-918f-41aa-ba7f-a2bacb4aed61\")>,\n",
       " <selenium.webdriver.remote.webelement.WebElement (session=\"3953004b9296b248ae855975c2e32de8\", element=\"6241e8a6-19c5-484c-8920-4ce67c5e3739\")>,\n",
       " <selenium.webdriver.remote.webelement.WebElement (session=\"3953004b9296b248ae855975c2e32de8\", element=\"cf228441-4264-4d16-af35-f2649c783075\")>,\n",
       " <selenium.webdriver.remote.webelement.WebElement (session=\"3953004b9296b248ae855975c2e32de8\", element=\"27cf84ca-a23f-4f75-a794-d4b69b7c567c\")>,\n",
       " <selenium.webdriver.remote.webelement.WebElement (session=\"3953004b9296b248ae855975c2e32de8\", element=\"f1a43c40-0f37-4fed-86e3-62e6b1ff3397\")>,\n",
       " <selenium.webdriver.remote.webelement.WebElement (session=\"3953004b9296b248ae855975c2e32de8\", element=\"7df97c2e-966a-4da8-b53b-30f98066c15e\")>]"
      ]
     },
     "execution_count": 331,
     "metadata": {},
     "output_type": "execute_result"
    }
   ],
   "source": [
    "job_l=driver.find_elements_by_xpath(\"//li[@class='fleft grey-text br2 placeHolderLi location']\")\n",
    "job_l"
   ]
  },
  {
   "cell_type": "code",
   "execution_count": 332,
   "id": "1cf6124c",
   "metadata": {},
   "outputs": [
    {
     "data": {
      "text/plain": [
       "['Noida, New Delhi, Faridabad, Gurgaon/Gurugram, Delhi / NCR',\n",
       " 'Noida, Nodia\\n(WFH during Covid)',\n",
       " 'Hyderabad/Secunderabad, Pune, Chennai, Bangalore/Bengaluru, Delhi / NCR, Mumbai (All Areas)\\n(WFH during Covid)',\n",
       " 'Noida',\n",
       " 'Remote',\n",
       " 'Gurgaon/Gurugram, Chennai',\n",
       " 'Delhi / NCR',\n",
       " 'Noida, Ghaziabad, Delhi / NCR',\n",
       " 'New Delhi',\n",
       " 'Delhi']"
      ]
     },
     "execution_count": 332,
     "metadata": {},
     "output_type": "execute_result"
    }
   ],
   "source": [
    "job_loc=[]\n",
    "for i in job_l[:10]:\n",
    "    job_loc.append(i.text)\n",
    "job_loc"
   ]
  },
  {
   "cell_type": "code",
   "execution_count": 333,
   "id": "0fb1758a",
   "metadata": {},
   "outputs": [
    {
     "data": {
      "text/plain": [
       "[<selenium.webdriver.remote.webelement.WebElement (session=\"3953004b9296b248ae855975c2e32de8\", element=\"2bba1d4c-278b-4730-a7e8-b1c5d6ffb15d\")>,\n",
       " <selenium.webdriver.remote.webelement.WebElement (session=\"3953004b9296b248ae855975c2e32de8\", element=\"23e93da4-c368-46ae-999c-7da028d40074\")>,\n",
       " <selenium.webdriver.remote.webelement.WebElement (session=\"3953004b9296b248ae855975c2e32de8\", element=\"499b4498-c41f-4889-8320-c52255186263\")>,\n",
       " <selenium.webdriver.remote.webelement.WebElement (session=\"3953004b9296b248ae855975c2e32de8\", element=\"dff84b20-edc3-4c16-bda5-612c5b7af08c\")>,\n",
       " <selenium.webdriver.remote.webelement.WebElement (session=\"3953004b9296b248ae855975c2e32de8\", element=\"5860a3bc-6d5e-4e56-bc38-e80d67a90d08\")>,\n",
       " <selenium.webdriver.remote.webelement.WebElement (session=\"3953004b9296b248ae855975c2e32de8\", element=\"61e2011b-f341-4f19-bde7-148e993b9122\")>,\n",
       " <selenium.webdriver.remote.webelement.WebElement (session=\"3953004b9296b248ae855975c2e32de8\", element=\"9627761d-e1c9-40cf-b742-3748de12809d\")>,\n",
       " <selenium.webdriver.remote.webelement.WebElement (session=\"3953004b9296b248ae855975c2e32de8\", element=\"b9728ded-38e7-4e9f-b5db-86a6114ba3a5\")>,\n",
       " <selenium.webdriver.remote.webelement.WebElement (session=\"3953004b9296b248ae855975c2e32de8\", element=\"7462ec70-9fce-4cd3-8b8b-2a5bfa5cde59\")>,\n",
       " <selenium.webdriver.remote.webelement.WebElement (session=\"3953004b9296b248ae855975c2e32de8\", element=\"5e2c38d6-d8ee-4838-ba80-d66b1ee3b854\")>,\n",
       " <selenium.webdriver.remote.webelement.WebElement (session=\"3953004b9296b248ae855975c2e32de8\", element=\"0b6cd0ab-c567-4b99-bd52-dffa0c6de27a\")>,\n",
       " <selenium.webdriver.remote.webelement.WebElement (session=\"3953004b9296b248ae855975c2e32de8\", element=\"61937a87-ff3e-4782-a0c3-d6d44431ae21\")>,\n",
       " <selenium.webdriver.remote.webelement.WebElement (session=\"3953004b9296b248ae855975c2e32de8\", element=\"457899c1-df2f-47e9-9b08-db6428eb8115\")>,\n",
       " <selenium.webdriver.remote.webelement.WebElement (session=\"3953004b9296b248ae855975c2e32de8\", element=\"4ee83cdf-32fc-45b7-b277-2a50d97c978f\")>,\n",
       " <selenium.webdriver.remote.webelement.WebElement (session=\"3953004b9296b248ae855975c2e32de8\", element=\"e5487ea8-5c80-405f-8c4d-c8a72c99a487\")>,\n",
       " <selenium.webdriver.remote.webelement.WebElement (session=\"3953004b9296b248ae855975c2e32de8\", element=\"21a61516-3866-43b3-b341-5465175b74e5\")>,\n",
       " <selenium.webdriver.remote.webelement.WebElement (session=\"3953004b9296b248ae855975c2e32de8\", element=\"fb490b01-2fb6-4e86-b64c-15653cf246d7\")>,\n",
       " <selenium.webdriver.remote.webelement.WebElement (session=\"3953004b9296b248ae855975c2e32de8\", element=\"edc3cb7c-a6cf-4c7e-865f-beacfab2456f\")>,\n",
       " <selenium.webdriver.remote.webelement.WebElement (session=\"3953004b9296b248ae855975c2e32de8\", element=\"5d1d887c-2139-4592-8c20-cc49d7aa5ee8\")>,\n",
       " <selenium.webdriver.remote.webelement.WebElement (session=\"3953004b9296b248ae855975c2e32de8\", element=\"8d50d148-2ccc-4255-82f3-e30e03770185\")>]"
      ]
     },
     "execution_count": 333,
     "metadata": {},
     "output_type": "execute_result"
    }
   ],
   "source": [
    "exp=driver.find_elements_by_xpath(\"//li[@class='fleft grey-text br2 placeHolderLi experience']\")\n",
    "exp"
   ]
  },
  {
   "cell_type": "code",
   "execution_count": 334,
   "id": "6e7c51d2",
   "metadata": {},
   "outputs": [
    {
     "data": {
      "text/plain": [
       "['0-2 Yrs',\n",
       " '2-7 Yrs',\n",
       " '4-9 Yrs',\n",
       " '2-5 Yrs',\n",
       " '1-5 Yrs',\n",
       " '4-9 Yrs',\n",
       " '2-6 Yrs',\n",
       " '0-0 Yrs',\n",
       " '2-5 Yrs',\n",
       " '1-5 Yrs']"
      ]
     },
     "execution_count": 334,
     "metadata": {},
     "output_type": "execute_result"
    }
   ],
   "source": [
    "exp1=[]\n",
    "for i in exp[:10]:\n",
    "    exp1.append(i.text)\n",
    "exp1"
   ]
  },
  {
   "cell_type": "code",
   "execution_count": 335,
   "id": "40642d88",
   "metadata": {},
   "outputs": [],
   "source": [
    "Data_Scientist_Jobs=pd.DataFrame({})"
   ]
  },
  {
   "cell_type": "code",
   "execution_count": 336,
   "id": "788245f6",
   "metadata": {},
   "outputs": [],
   "source": [
    "Data_Scientist_Jobs['Job_Titles']=job_title\n",
    "Data_Scientist_Jobs['Company Names']=comp_n1\n",
    "Data_Scientist_Jobs['Job_Location']=job_loc\n",
    "Data_Scientist_Jobs['Experience']=exp1"
   ]
  },
  {
   "cell_type": "code",
   "execution_count": 337,
   "id": "bfdfd59e",
   "metadata": {
    "scrolled": true
   },
   "outputs": [
    {
     "data": {
      "text/html": [
       "<div>\n",
       "<style scoped>\n",
       "    .dataframe tbody tr th:only-of-type {\n",
       "        vertical-align: middle;\n",
       "    }\n",
       "\n",
       "    .dataframe tbody tr th {\n",
       "        vertical-align: top;\n",
       "    }\n",
       "\n",
       "    .dataframe thead th {\n",
       "        text-align: right;\n",
       "    }\n",
       "</style>\n",
       "<table border=\"1\" class=\"dataframe\">\n",
       "  <thead>\n",
       "    <tr style=\"text-align: right;\">\n",
       "      <th></th>\n",
       "      <th>Job_Titles</th>\n",
       "      <th>Company Names</th>\n",
       "      <th>Job_Location</th>\n",
       "      <th>Experience</th>\n",
       "    </tr>\n",
       "  </thead>\n",
       "  <tbody>\n",
       "    <tr>\n",
       "      <th>0</th>\n",
       "      <td>Data Scientist</td>\n",
       "      <td>LG Electronics India Pvt. Ltd.</td>\n",
       "      <td>Noida, New Delhi, Faridabad, Gurgaon/Gurugram,...</td>\n",
       "      <td>0-2 Yrs</td>\n",
       "    </tr>\n",
       "    <tr>\n",
       "      <th>1</th>\n",
       "      <td>Data Scientist</td>\n",
       "      <td>Navikenz India Pvt Ltd</td>\n",
       "      <td>Noida, Nodia\\n(WFH during Covid)</td>\n",
       "      <td>2-7 Yrs</td>\n",
       "    </tr>\n",
       "    <tr>\n",
       "      <th>2</th>\n",
       "      <td>Hiring For Data Scientist</td>\n",
       "      <td>Tata Consultancy Services Ltd.</td>\n",
       "      <td>Hyderabad/Secunderabad, Pune, Chennai, Bangalo...</td>\n",
       "      <td>4-9 Yrs</td>\n",
       "    </tr>\n",
       "    <tr>\n",
       "      <th>3</th>\n",
       "      <td>Data Scientist/ Senior Data Scientist</td>\n",
       "      <td>Newgen Software Technologies</td>\n",
       "      <td>Noida</td>\n",
       "      <td>2-5 Yrs</td>\n",
       "    </tr>\n",
       "    <tr>\n",
       "      <th>4</th>\n",
       "      <td>Project Manager | Team Leader | Senior Data Sc...</td>\n",
       "      <td>Tidyquant (OPC) Private Limited</td>\n",
       "      <td>Remote</td>\n",
       "      <td>1-5 Yrs</td>\n",
       "    </tr>\n",
       "    <tr>\n",
       "      <th>5</th>\n",
       "      <td>Data Scientist</td>\n",
       "      <td>Teleperformance</td>\n",
       "      <td>Gurgaon/Gurugram, Chennai</td>\n",
       "      <td>4-9 Yrs</td>\n",
       "    </tr>\n",
       "    <tr>\n",
       "      <th>6</th>\n",
       "      <td>Job Opportunity || Data Scientist || HCL Techn...</td>\n",
       "      <td>HCL Technologies</td>\n",
       "      <td>Delhi / NCR</td>\n",
       "      <td>2-6 Yrs</td>\n",
       "    </tr>\n",
       "    <tr>\n",
       "      <th>7</th>\n",
       "      <td>Data Analyst / Data Scientist / Business Analy...</td>\n",
       "      <td>GABA Consultancy services</td>\n",
       "      <td>Noida, Ghaziabad, Delhi / NCR</td>\n",
       "      <td>0-0 Yrs</td>\n",
       "    </tr>\n",
       "    <tr>\n",
       "      <th>8</th>\n",
       "      <td>Data Scientist</td>\n",
       "      <td>The Boston Consulting Group (India) Pvt Limited</td>\n",
       "      <td>New Delhi</td>\n",
       "      <td>2-5 Yrs</td>\n",
       "    </tr>\n",
       "    <tr>\n",
       "      <th>9</th>\n",
       "      <td>Senior Data Scientist</td>\n",
       "      <td>iNICU</td>\n",
       "      <td>Delhi</td>\n",
       "      <td>1-5 Yrs</td>\n",
       "    </tr>\n",
       "  </tbody>\n",
       "</table>\n",
       "</div>"
      ],
      "text/plain": [
       "                                          Job_Titles  \\\n",
       "0                                     Data Scientist   \n",
       "1                                     Data Scientist   \n",
       "2                          Hiring For Data Scientist   \n",
       "3              Data Scientist/ Senior Data Scientist   \n",
       "4  Project Manager | Team Leader | Senior Data Sc...   \n",
       "5                                     Data Scientist   \n",
       "6  Job Opportunity || Data Scientist || HCL Techn...   \n",
       "7  Data Analyst / Data Scientist / Business Analy...   \n",
       "8                                     Data Scientist   \n",
       "9                              Senior Data Scientist   \n",
       "\n",
       "                                     Company Names  \\\n",
       "0                   LG Electronics India Pvt. Ltd.   \n",
       "1                           Navikenz India Pvt Ltd   \n",
       "2                   Tata Consultancy Services Ltd.   \n",
       "3                     Newgen Software Technologies   \n",
       "4                  Tidyquant (OPC) Private Limited   \n",
       "5                                  Teleperformance   \n",
       "6                                 HCL Technologies   \n",
       "7                        GABA Consultancy services   \n",
       "8  The Boston Consulting Group (India) Pvt Limited   \n",
       "9                                            iNICU   \n",
       "\n",
       "                                        Job_Location Experience  \n",
       "0  Noida, New Delhi, Faridabad, Gurgaon/Gurugram,...    0-2 Yrs  \n",
       "1                   Noida, Nodia\\n(WFH during Covid)    2-7 Yrs  \n",
       "2  Hyderabad/Secunderabad, Pune, Chennai, Bangalo...    4-9 Yrs  \n",
       "3                                              Noida    2-5 Yrs  \n",
       "4                                             Remote    1-5 Yrs  \n",
       "5                          Gurgaon/Gurugram, Chennai    4-9 Yrs  \n",
       "6                                        Delhi / NCR    2-6 Yrs  \n",
       "7                      Noida, Ghaziabad, Delhi / NCR    0-0 Yrs  \n",
       "8                                          New Delhi    2-5 Yrs  \n",
       "9                                              Delhi    1-5 Yrs  "
      ]
     },
     "execution_count": 337,
     "metadata": {},
     "output_type": "execute_result"
    }
   ],
   "source": [
    "Data_Scientist_Jobs"
   ]
  },
  {
   "cell_type": "markdown",
   "id": "356c0264",
   "metadata": {},
   "source": [
    "# Question:9\n",
    "Write a python program to scrape data for first 10 job results for Data Scientist Designation in Noida location. You have to scrape company name, No. of days ago when job was posted, Rating of the company."
   ]
  },
  {
   "cell_type": "code",
   "execution_count": 247,
   "id": "cc463d5f",
   "metadata": {},
   "outputs": [],
   "source": [
    "driver=webdriver.Chrome(r\"C:/Users/91897/Downloads/chromedriver_win32/chromedriver.exe\")"
   ]
  },
  {
   "cell_type": "code",
   "execution_count": 248,
   "id": "2fd4b18b",
   "metadata": {},
   "outputs": [],
   "source": [
    "driver.get(\"https://www.ambitionbox.com/\")"
   ]
  },
  {
   "cell_type": "code",
   "execution_count": 249,
   "id": "f5cfd554",
   "metadata": {},
   "outputs": [],
   "source": [
    "job_tab = driver.find_element_by_xpath('//a[@class=\"link jobs\"]')\n",
    "job_tab.click()"
   ]
  },
  {
   "cell_type": "code",
   "execution_count": 250,
   "id": "6f581932",
   "metadata": {},
   "outputs": [],
   "source": [
    "search_job = driver.find_element_by_xpath('//input[@class=\"input tt-input\"]')\n",
    "search_job.send_keys(\"Data Scientist\")"
   ]
  },
  {
   "cell_type": "code",
   "execution_count": 251,
   "id": "de78bfd3",
   "metadata": {},
   "outputs": [],
   "source": [
    "search_btn = driver.find_element_by_xpath('//button[@class=\"ab_btn search-btn round\"]/span')\n",
    "search_btn.click()"
   ]
  },
  {
   "cell_type": "code",
   "execution_count": 252,
   "id": "1aa68fc4",
   "metadata": {},
   "outputs": [],
   "source": [
    "driver.find_element_by_xpath('//div[@title=\"Location\"]').click()\n",
    "\n",
    "loc = driver.find_element_by_id('location_Noida').click()"
   ]
  },
  {
   "cell_type": "code",
   "execution_count": 253,
   "id": "bbd5c6d8",
   "metadata": {},
   "outputs": [],
   "source": [
    "Company_names = []\n",
    "No_of_days =[]\n",
    "Rating = []"
   ]
  },
  {
   "cell_type": "code",
   "execution_count": 254,
   "id": "4d1f443e",
   "metadata": {},
   "outputs": [],
   "source": [
    "company_tags = driver.find_elements_by_xpath('//p[@class=\"company body-medium\"]')\n"
   ]
  },
  {
   "cell_type": "code",
   "execution_count": 255,
   "id": "f44e85d9",
   "metadata": {},
   "outputs": [],
   "source": [
    "for i in range(len(company_tags)):\n",
    "    if i < 10:\n",
    "        name = company_tags[i].text\n",
    "        Company_names.append(name)"
   ]
  },
  {
   "cell_type": "code",
   "execution_count": 256,
   "id": "b2143e81",
   "metadata": {},
   "outputs": [],
   "source": [
    "days_tags = driver.find_elements_by_xpath('//span[@class=\"body-small-l\"]')\n"
   ]
  },
  {
   "cell_type": "code",
   "execution_count": 257,
   "id": "556de3e8",
   "metadata": {},
   "outputs": [],
   "source": [
    "for i in range(len(days_tags)):\n",
    "    if i < 19:\n",
    "        name = days_tags[i].text\n",
    "        if name == 'via naukri.com' or name == 'via iimjobs.com':\n",
    "            continue \n",
    "        else:\n",
    "            No_of_days.append(name)\n"
   ]
  },
  {
   "cell_type": "code",
   "execution_count": 258,
   "id": "aa90b676",
   "metadata": {},
   "outputs": [],
   "source": [
    "rating_tags = driver.find_elements_by_xpath('//span[@class=\"body-small\"]')\n"
   ]
  },
  {
   "cell_type": "code",
   "execution_count": 259,
   "id": "55bfbdef",
   "metadata": {},
   "outputs": [],
   "source": [
    "for i in range(len(rating_tags)):\n",
    "    if i < 10:\n",
    "        name = rating_tags[i].text\n",
    "        Rating.append(name)"
   ]
  },
  {
   "cell_type": "code",
   "execution_count": 260,
   "id": "eb03189f",
   "metadata": {},
   "outputs": [
    {
     "name": "stdout",
     "output_type": "stream",
     "text": [
      "The length of all lists : 10 10 10\n"
     ]
    }
   ],
   "source": [
    "print(\"The length of all lists :\",len(Company_names), len(No_of_days), len(Rating))"
   ]
  },
  {
   "cell_type": "code",
   "execution_count": 261,
   "id": "e4a36b03",
   "metadata": {},
   "outputs": [
    {
     "name": "stdout",
     "output_type": "stream",
     "text": [
      "\n",
      " The Dataframe of scraped data:\n"
     ]
    },
    {
     "data": {
      "text/html": [
       "<div>\n",
       "<style scoped>\n",
       "    .dataframe tbody tr th:only-of-type {\n",
       "        vertical-align: middle;\n",
       "    }\n",
       "\n",
       "    .dataframe tbody tr th {\n",
       "        vertical-align: top;\n",
       "    }\n",
       "\n",
       "    .dataframe thead th {\n",
       "        text-align: right;\n",
       "    }\n",
       "</style>\n",
       "<table border=\"1\" class=\"dataframe\">\n",
       "  <thead>\n",
       "    <tr style=\"text-align: right;\">\n",
       "      <th></th>\n",
       "      <th>Company Names</th>\n",
       "      <th>Job updated</th>\n",
       "      <th>Rating</th>\n",
       "    </tr>\n",
       "  </thead>\n",
       "  <tbody>\n",
       "    <tr>\n",
       "      <th>0</th>\n",
       "      <td>LG Electronics India Pvt. Ltd.</td>\n",
       "      <td>8d ago</td>\n",
       "      <td>4.1</td>\n",
       "    </tr>\n",
       "    <tr>\n",
       "      <th>1</th>\n",
       "      <td>GENPACT India Private Limited</td>\n",
       "      <td>15d ago</td>\n",
       "      <td>4.0</td>\n",
       "    </tr>\n",
       "    <tr>\n",
       "      <th>2</th>\n",
       "      <td>GENPACT India Private Limited</td>\n",
       "      <td>15d ago</td>\n",
       "      <td>4.0</td>\n",
       "    </tr>\n",
       "    <tr>\n",
       "      <th>3</th>\n",
       "      <td>NTT Data Business Solutions Pvt Ltd</td>\n",
       "      <td>16d ago</td>\n",
       "      <td>3.8</td>\n",
       "    </tr>\n",
       "    <tr>\n",
       "      <th>4</th>\n",
       "      <td>GENPACT India Private Limited</td>\n",
       "      <td>17d ago</td>\n",
       "      <td>4.0</td>\n",
       "    </tr>\n",
       "    <tr>\n",
       "      <th>5</th>\n",
       "      <td>Paytm</td>\n",
       "      <td>2d ago</td>\n",
       "      <td>3.7</td>\n",
       "    </tr>\n",
       "    <tr>\n",
       "      <th>6</th>\n",
       "      <td>GI Group</td>\n",
       "      <td>1d ago</td>\n",
       "      <td>4.0</td>\n",
       "    </tr>\n",
       "    <tr>\n",
       "      <th>7</th>\n",
       "      <td>GI Group</td>\n",
       "      <td>1d ago</td>\n",
       "      <td>4.0</td>\n",
       "    </tr>\n",
       "    <tr>\n",
       "      <th>8</th>\n",
       "      <td>GI Group</td>\n",
       "      <td>1d ago</td>\n",
       "      <td>4.0</td>\n",
       "    </tr>\n",
       "    <tr>\n",
       "      <th>9</th>\n",
       "      <td>Steria India Ltd</td>\n",
       "      <td>1mon ago</td>\n",
       "      <td>4.1</td>\n",
       "    </tr>\n",
       "  </tbody>\n",
       "</table>\n",
       "</div>"
      ],
      "text/plain": [
       "                         Company Names Job updated Rating\n",
       "0       LG Electronics India Pvt. Ltd.      8d ago    4.1\n",
       "1        GENPACT India Private Limited     15d ago    4.0\n",
       "2        GENPACT India Private Limited     15d ago    4.0\n",
       "3  NTT Data Business Solutions Pvt Ltd     16d ago    3.8\n",
       "4        GENPACT India Private Limited     17d ago    4.0\n",
       "5                                Paytm      2d ago    3.7\n",
       "6                             GI Group      1d ago    4.0\n",
       "7                             GI Group      1d ago    4.0\n",
       "8                             GI Group      1d ago    4.0\n",
       "9                     Steria India Ltd    1mon ago    4.1"
      ]
     },
     "execution_count": 261,
     "metadata": {},
     "output_type": "execute_result"
    }
   ],
   "source": [
    "print(\"\\n The Dataframe of scraped data:\")\n",
    "df = pd.DataFrame({'Company Names':Company_names,'Job updated': No_of_days,'Rating':Rating})\n",
    "df"
   ]
  },
  {
   "cell_type": "markdown",
   "id": "28895149",
   "metadata": {},
   "source": [
    "# Question:10"
   ]
  },
  {
   "cell_type": "markdown",
   "id": "896ef7d5",
   "metadata": {},
   "source": [
    "Write a Python program to scrape the salary data for Data Scientist designation from https://www.ambitionbox.com/\n",
    "Scrape Company name, Number of salaries, Average salary, Min salary, Max Salary"
   ]
  },
  {
   "cell_type": "code",
   "execution_count": 262,
   "id": "d9907d86",
   "metadata": {},
   "outputs": [],
   "source": [
    "driver=webdriver.Chrome(r\"C:/Users/91897/Downloads/chromedriver_win32/chromedriver.exe\")"
   ]
  },
  {
   "cell_type": "code",
   "execution_count": 263,
   "id": "f19d4e5c",
   "metadata": {},
   "outputs": [],
   "source": [
    "driver.get('https://www.ambitionbox.com/')"
   ]
  },
  {
   "cell_type": "code",
   "execution_count": 264,
   "id": "3aad572c",
   "metadata": {},
   "outputs": [],
   "source": [
    "job_tab = driver.find_element_by_xpath('//a[@title=\"Company Salaries\"]')\n",
    "job_tab.click()"
   ]
  },
  {
   "cell_type": "code",
   "execution_count": 265,
   "id": "444b5588",
   "metadata": {},
   "outputs": [],
   "source": [
    "search_job = driver.find_element_by_xpath('//input[@class=\"tt-input\"]')\n",
    "search_job.send_keys(\"Data Scientist\")"
   ]
  },
  {
   "cell_type": "code",
   "execution_count": 266,
   "id": "f3f4c09b",
   "metadata": {},
   "outputs": [],
   "source": [
    "search_btn = driver.find_element_by_xpath('//i[@class=\"icon-search\"]')\n",
    "search_btn.click()"
   ]
  },
  {
   "cell_type": "code",
   "execution_count": 267,
   "id": "3cbedf34",
   "metadata": {},
   "outputs": [],
   "source": [
    "Company_names = []\n",
    "No_of_sal =[]\n",
    "Average_sal = []\n",
    "Sal=[]\n",
    "Min_sal=[]\n",
    "Max_sal = []"
   ]
  },
  {
   "cell_type": "code",
   "execution_count": 268,
   "id": "277420a3",
   "metadata": {},
   "outputs": [],
   "source": [
    "name_tags = driver.find_elements_by_xpath('//div[@class=\"name\"]')"
   ]
  },
  {
   "cell_type": "code",
   "execution_count": 269,
   "id": "256c75ac",
   "metadata": {},
   "outputs": [],
   "source": [
    "for i in range(len(name_tags)):\n",
    "    if i < 10:\n",
    "        name = name_tags[i].text.split('\\n')[0]\n",
    "        Company_names.append(name)"
   ]
  },
  {
   "cell_type": "code",
   "execution_count": 270,
   "id": "af9b447f",
   "metadata": {},
   "outputs": [],
   "source": [
    "no_sal_tags = driver.find_elements_by_xpath('//div[@class=\"name\"]')"
   ]
  },
  {
   "cell_type": "code",
   "execution_count": 271,
   "id": "9b4645e2",
   "metadata": {},
   "outputs": [],
   "source": [
    "for i in range(len(no_sal_tags)):\n",
    "    if i < 10:\n",
    "        val = no_sal_tags[i].text.split('\\n')[1]\n",
    "        No_of_sal.append(val)"
   ]
  },
  {
   "cell_type": "code",
   "execution_count": 272,
   "id": "75643bba",
   "metadata": {},
   "outputs": [],
   "source": [
    "avg_sal_tags = driver.find_elements_by_xpath('//p[@class=\"averageCtc\"]')"
   ]
  },
  {
   "cell_type": "code",
   "execution_count": 273,
   "id": "1e613c02",
   "metadata": {},
   "outputs": [],
   "source": [
    "for i in range(len(avg_sal_tags)):\n",
    "    if i < 10:\n",
    "        avg = avg_sal_tags[i].text    \n",
    "        Average_sal.append(avg)"
   ]
  },
  {
   "cell_type": "code",
   "execution_count": 274,
   "id": "a227377f",
   "metadata": {},
   "outputs": [],
   "source": [
    "sal_tags = driver.find_elements_by_xpath('//div[@class=\"value body-medium\"]')"
   ]
  },
  {
   "cell_type": "code",
   "execution_count": 275,
   "id": "fb4d1376",
   "metadata": {},
   "outputs": [],
   "source": [
    "for i in range(len(sal_tags)):\n",
    "    if i <20:\n",
    "        sal = sal_tags[i].text\n",
    "        Sal.append(sal)"
   ]
  },
  {
   "cell_type": "code",
   "execution_count": 276,
   "id": "7208ac99",
   "metadata": {},
   "outputs": [],
   "source": [
    "Min_sal.append(Sal[0::2])\n",
    "Min_sal=str(Min_sal).split(',')\n",
    "Max_sal.append(Sal[1::2])\n",
    "Max_sal=str(Max_sal).split(',')"
   ]
  },
  {
   "cell_type": "code",
   "execution_count": 277,
   "id": "9d4066cb",
   "metadata": {},
   "outputs": [
    {
     "name": "stdout",
     "output_type": "stream",
     "text": [
      "The length of all lists : 10 10 10 10 10\n"
     ]
    }
   ],
   "source": [
    "print(\"The length of all lists :\",len(Company_names),len(No_of_sal), len(Average_sal),len(Min_sal), len(Max_sal))"
   ]
  },
  {
   "cell_type": "code",
   "execution_count": 278,
   "id": "48ccad01",
   "metadata": {},
   "outputs": [
    {
     "name": "stdout",
     "output_type": "stream",
     "text": [
      "\n",
      " The Dataframe of scraped data:\n"
     ]
    },
    {
     "data": {
      "text/html": [
       "<div>\n",
       "<style scoped>\n",
       "    .dataframe tbody tr th:only-of-type {\n",
       "        vertical-align: middle;\n",
       "    }\n",
       "\n",
       "    .dataframe tbody tr th {\n",
       "        vertical-align: top;\n",
       "    }\n",
       "\n",
       "    .dataframe thead th {\n",
       "        text-align: right;\n",
       "    }\n",
       "</style>\n",
       "<table border=\"1\" class=\"dataframe\">\n",
       "  <thead>\n",
       "    <tr style=\"text-align: right;\">\n",
       "      <th></th>\n",
       "      <th>Company Names</th>\n",
       "      <th>Salary updated</th>\n",
       "      <th>Average Salary</th>\n",
       "      <th>Minimum Salary</th>\n",
       "      <th>Maximum Salary</th>\n",
       "    </tr>\n",
       "  </thead>\n",
       "  <tbody>\n",
       "    <tr>\n",
       "      <th>0</th>\n",
       "      <td>Tekion</td>\n",
       "      <td>based on 10 salaries</td>\n",
       "      <td>₹ 23.3L</td>\n",
       "      <td>[['₹ 14.0L'</td>\n",
       "      <td>[['₹ 32.0L'</td>\n",
       "    </tr>\n",
       "    <tr>\n",
       "      <th>1</th>\n",
       "      <td>Microsoft Corporation</td>\n",
       "      <td>based on 218 salaries</td>\n",
       "      <td>₹ 22.4L</td>\n",
       "      <td>'₹ 12.0L'</td>\n",
       "      <td>'₹ 45.0L'</td>\n",
       "    </tr>\n",
       "    <tr>\n",
       "      <th>2</th>\n",
       "      <td>Goldman Sachs</td>\n",
       "      <td>based on 11 salaries</td>\n",
       "      <td>₹ 21.9L</td>\n",
       "      <td>'₹ 16.0L'</td>\n",
       "      <td>'₹ 30.0L'</td>\n",
       "    </tr>\n",
       "    <tr>\n",
       "      <th>3</th>\n",
       "      <td>Flipkart</td>\n",
       "      <td>based on 53 salaries</td>\n",
       "      <td>₹ 20.6L</td>\n",
       "      <td>'₹ 7.0L'</td>\n",
       "      <td>'₹ 30.0L'</td>\n",
       "    </tr>\n",
       "    <tr>\n",
       "      <th>4</th>\n",
       "      <td>Amazon</td>\n",
       "      <td>based on 80 salaries</td>\n",
       "      <td>₹ 19.1L</td>\n",
       "      <td>'₹ 8.0L'</td>\n",
       "      <td>'₹ 40.0L'</td>\n",
       "    </tr>\n",
       "    <tr>\n",
       "      <th>5</th>\n",
       "      <td>Arcesium</td>\n",
       "      <td>based on 35 salaries</td>\n",
       "      <td>₹ 18.4L</td>\n",
       "      <td>'₹ 12.0L'</td>\n",
       "      <td>'₹ 30.0L'</td>\n",
       "    </tr>\n",
       "    <tr>\n",
       "      <th>6</th>\n",
       "      <td>Servicenow Software Development India</td>\n",
       "      <td>based on 27 salaries</td>\n",
       "      <td>₹ 18.2L</td>\n",
       "      <td>'₹ 12.0L'</td>\n",
       "      <td>'₹ 25.0L'</td>\n",
       "    </tr>\n",
       "    <tr>\n",
       "      <th>7</th>\n",
       "      <td>ServiceNow</td>\n",
       "      <td>based on 15 salaries</td>\n",
       "      <td>₹ 18.2L</td>\n",
       "      <td>'₹ 12.7L'</td>\n",
       "      <td>'₹ 23.0L'</td>\n",
       "    </tr>\n",
       "    <tr>\n",
       "      <th>8</th>\n",
       "      <td>Walmart</td>\n",
       "      <td>based on 77 salaries</td>\n",
       "      <td>₹ 17.9L</td>\n",
       "      <td>'₹ 10.0L'</td>\n",
       "      <td>'₹ 32.0L'</td>\n",
       "    </tr>\n",
       "    <tr>\n",
       "      <th>9</th>\n",
       "      <td>PayPal</td>\n",
       "      <td>based on 12 salaries</td>\n",
       "      <td>₹ 17.6L</td>\n",
       "      <td>'₹ 12.0L']]</td>\n",
       "      <td>'₹ 23.0L']]</td>\n",
       "    </tr>\n",
       "  </tbody>\n",
       "</table>\n",
       "</div>"
      ],
      "text/plain": [
       "                           Company Names         Salary updated  \\\n",
       "0                                 Tekion   based on 10 salaries   \n",
       "1                  Microsoft Corporation  based on 218 salaries   \n",
       "2                          Goldman Sachs   based on 11 salaries   \n",
       "3                               Flipkart   based on 53 salaries   \n",
       "4                                 Amazon   based on 80 salaries   \n",
       "5                               Arcesium   based on 35 salaries   \n",
       "6  Servicenow Software Development India   based on 27 salaries   \n",
       "7                             ServiceNow   based on 15 salaries   \n",
       "8                                Walmart   based on 77 salaries   \n",
       "9                                 PayPal   based on 12 salaries   \n",
       "\n",
       "  Average Salary Minimum Salary Maximum Salary  \n",
       "0        ₹ 23.3L    [['₹ 14.0L'    [['₹ 32.0L'  \n",
       "1        ₹ 22.4L      '₹ 12.0L'      '₹ 45.0L'  \n",
       "2        ₹ 21.9L      '₹ 16.0L'      '₹ 30.0L'  \n",
       "3        ₹ 20.6L       '₹ 7.0L'      '₹ 30.0L'  \n",
       "4        ₹ 19.1L       '₹ 8.0L'      '₹ 40.0L'  \n",
       "5        ₹ 18.4L      '₹ 12.0L'      '₹ 30.0L'  \n",
       "6        ₹ 18.2L      '₹ 12.0L'      '₹ 25.0L'  \n",
       "7        ₹ 18.2L      '₹ 12.7L'      '₹ 23.0L'  \n",
       "8        ₹ 17.9L      '₹ 10.0L'      '₹ 32.0L'  \n",
       "9        ₹ 17.6L    '₹ 12.0L']]    '₹ 23.0L']]  "
      ]
     },
     "execution_count": 278,
     "metadata": {},
     "output_type": "execute_result"
    }
   ],
   "source": [
    "print(\"\\n The Dataframe of scraped data:\")\n",
    "df = pd.DataFrame({'Company Names':Company_names,'Salary updated': No_of_sal,'Average Salary':Average_sal,'Minimum Salary':Min_sal,'Maximum Salary':Max_sal})\n",
    "df"
   ]
  },
  {
   "cell_type": "code",
   "execution_count": null,
   "id": "f1170827",
   "metadata": {},
   "outputs": [],
   "source": []
  }
 ],
 "metadata": {
  "kernelspec": {
   "display_name": "Python 3 (ipykernel)",
   "language": "python",
   "name": "python3"
  },
  "language_info": {
   "codemirror_mode": {
    "name": "ipython",
    "version": 3
   },
   "file_extension": ".py",
   "mimetype": "text/x-python",
   "name": "python",
   "nbconvert_exporter": "python",
   "pygments_lexer": "ipython3",
   "version": "3.9.7"
  }
 },
 "nbformat": 4,
 "nbformat_minor": 5
}
